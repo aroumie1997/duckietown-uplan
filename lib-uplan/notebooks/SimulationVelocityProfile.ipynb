{
 "cells": [
  {
   "cell_type": "markdown",
   "metadata": {},
   "source": [
    "# Simulation of Velocity Profiling"
   ]
  },
  {
   "cell_type": "code",
   "execution_count": 1,
   "metadata": {},
   "outputs": [
    {
     "name": "stderr",
     "output_type": "stream",
     "text": [
      "INFO:dt-uplan:duckietown_uplan 1.0.0\n",
      "INFO:dt-world:duckietown-world 1.0.19\n",
      "DEBUG:dt-serialization:Registering class Serializable\n",
      "DEBUG:dt-serialization:Registering class GenericData\n",
      "DEBUG:dt-serialization:Registering class Sequence\n",
      "DEBUG:dt-serialization:Registering class SampledSequence\n",
      "DEBUG:dt-serialization:Registering class Constant\n",
      "DEBUG:dt-serialization:Registering class RectangularArea\n",
      "DEBUG:dt-serialization:Registering class TransformSequence\n",
      "DEBUG:dt-serialization:Registering class VariableTransformSequence\n",
      "DEBUG:dt-serialization:Registering class SE2Transform\n",
      "DEBUG:dt-serialization:Registering class Scale2D\n",
      "DEBUG:dt-serialization:Registering class Matrix2D\n",
      "DEBUG:dt-serialization:Registering class SpatialRelation\n",
      "DEBUG:dt-serialization:Registering class GroundTruth\n",
      "DEBUG:dt-serialization:Registering class PlacedObject\n",
      "DEBUG:dt-serialization:Registering class EvaluatedMetric\n",
      "DEBUG:dt-serialization:Registering class GenericObject\n",
      "DEBUG:dt-serialization:Registering class Duckie\n",
      "DEBUG:dt-serialization:Registering class Decoration\n",
      "DEBUG:dt-serialization:Registering class Tree\n",
      "DEBUG:dt-serialization:Registering class Vehicle\n",
      "DEBUG:dt-serialization:Registering class Cone\n",
      "DEBUG:dt-serialization:Registering class Bus\n",
      "DEBUG:dt-serialization:Registering class Truck\n",
      "DEBUG:dt-serialization:Registering class House\n",
      "DEBUG:dt-serialization:Registering class Barrier\n",
      "DEBUG:dt-serialization:Registering class Building\n",
      "DEBUG:dt-serialization:Registering class Sign\n",
      "DEBUG:dt-serialization:Registering class SignStop\n",
      "DEBUG:dt-serialization:Registering class SignLeftTIntersect\n",
      "DEBUG:dt-serialization:Registering class SignRightTIntersect\n",
      "DEBUG:dt-serialization:Registering class SignTIntersect\n",
      "DEBUG:dt-serialization:Registering class Sign4WayIntersect\n",
      "DEBUG:dt-serialization:Registering class SignTLightAhead\n",
      "DEBUG:dt-serialization:Registering class SignOneWayRight\n",
      "DEBUG:dt-serialization:Registering class SignOneWayLeft\n",
      "DEBUG:dt-serialization:Registering class SignDuckCrossing\n",
      "DEBUG:dt-serialization:Registering class SignYield\n",
      "DEBUG:dt-serialization:Registering class SignNoLeftTurn\n",
      "DEBUG:dt-serialization:Registering class SignNoRightTurn\n",
      "DEBUG:dt-serialization:Registering class SignDoNotEnter\n",
      "DEBUG:dt-serialization:Registering class SignParking\n",
      "DEBUG:dt-serialization:Registering class SignPedestrian\n",
      "DEBUG:dt-serialization:Registering class SignSlot\n",
      "DEBUG:dt-serialization:Registering class Tile\n",
      "DEBUG:dt-serialization:Registering class Anchor\n",
      "DEBUG:dt-serialization:Registering class TileCoords\n",
      "DEBUG:dt-serialization:Registering class TileRelativeTransform\n",
      "DEBUG:dt-serialization:Registering class TileMap\n",
      "DEBUG:dt-serialization:Registering class TrafficLight\n",
      "DEBUG:dt-serialization:Registering class Duckiebot\n",
      "DEBUG:dt-serialization:Registering class DB18\n",
      "DEBUG:dt-serialization:Registering class DuckietownMap\n",
      "DEBUG:dt-serialization:Registering class TagInstance\n",
      "DEBUG:dt-serialization:Registering class FloorTag\n",
      "DEBUG:dt-serialization:Registering class Integrator2D\n",
      "DEBUG:dt-serialization:Registering class GenericKinematicsSE2\n",
      "DEBUG:dt-serialization:Registering class LanePose\n",
      "DEBUG:dt-serialization:Registering class LaneSegment\n"
     ]
    }
   ],
   "source": [
    "# Imports\n",
    "import contracts\n",
    "contracts.disable_all()\n",
    "import duckietown_uplan as uplan\n",
    "import duckietown_world as dw\n",
    "import numpy as np\n",
    "from duckietown_uplan.algo.velocity_profiler import VelocityProfiler\n",
    "np.random.seed(3)"
   ]
  },
  {
   "cell_type": "markdown",
   "metadata": {},
   "source": [
    "First of all lets load a map"
   ]
  },
  {
   "cell_type": "code",
   "execution_count": 2,
   "metadata": {},
   "outputs": [
    {
     "name": "stderr",
     "output_type": "stream",
     "text": [
      "INFO:dt-world:loading map 4way\n"
     ]
    }
   ],
   "source": [
    "current_map = dw.load_map('4way')"
   ]
  },
  {
   "cell_type": "markdown",
   "metadata": {},
   "source": [
    "To start the simulation of the duckietown lets instantiate the simulation with one duckiebot (It takes a while!)"
   ]
  },
  {
   "cell_type": "code",
   "execution_count": 3,
   "metadata": {},
   "outputs": [],
   "source": [
    "simulation_exp = uplan.ConstantProbabiltiySim(current_map, 1)"
   ]
  },
  {
   "cell_type": "markdown",
   "metadata": {},
   "source": [
    "Now that we initialized the simulation we can run it for one second and extract the path "
   ]
  },
  {
   "cell_type": "code",
   "execution_count": 4,
   "metadata": {},
   "outputs": [
    {
     "name": "stdout",
     "output_type": "stream",
     "text": [
      "Started move function\n",
      "distance to travel:  0.25\n",
      "distance to next control point is :  0.15707963267948968\n",
      "reached a control point here\n",
      "reached a control point here\n",
      "reached a control point here\n"
     ]
    }
   ],
   "source": [
    "simulation_exp.execute_simulation(1)\n",
    "path = simulation_exp.duckie_town.duckie_citizens[0].get_path()"
   ]
  },
  {
   "cell_type": "markdown",
   "metadata": {},
   "source": [
    "To plan a velocity trajectory using the path retrieved from the simulation we need to have a list of uncertainties of an obstacle being in the path:\n",
    "\n",
    "* 1 means that we are certain that an obstacle is in a certain point in the path\n",
    "* 0 means that we are completely certain that there is no obstacle\n",
    "\n",
    "Lets simulate this as sine function (We can freely modify this function):"
   ]
  },
  {
   "cell_type": "code",
   "execution_count": 15,
   "metadata": {},
   "outputs": [],
   "source": [
    "def gen_uncertainties(num):\n",
    "    f = lambda x: 1/2 - 1/2*np.cos(x)\n",
    "    t = np.linspace(0, 4*np.pi, num)\n",
    "    uncertainties = [f(x) for x in t]\n",
    "    return uncertainties\n",
    "\n",
    "uncertainties = gen_uncertainties(len(path))"
   ]
  },
  {
   "cell_type": "markdown",
   "metadata": {},
   "source": [
    "## Cost Function\n",
    "\n",
    "For the planning algorithm to know how to plan for a good velocity profile we use a cost functions that includes the following terms:\n",
    "\n",
    "* **[delta_v_norm]** Changes in velocity from node to node\n",
    "* **[delta_unc]** The difference in uncertainty from node to node\n",
    "* **[unc]** The uncertainty level\n",
    "* **[next_vel_norm]** The next velocity normalized (v - v_min)/(v_max-v_min)\n",
    "* **[error_norm]** Error from reference to actual speed (normalized) (reference is taken as max_v, this makes us go as fast as possible given that there is no uncertainty)\n",
    "\n",
    "The current implemented cost function is:\n",
    "\n",
    "$$cost = a1*delta_v_norm^2 + a3*unc + a5*error_norm$$\n",
    "\n",
    "Of course the cost function is customizable and can be change with a few lines of code, if no cost function is sent to Velocity profiler then it is going to use the above mentioned.\n"
   ]
  },
  {
   "cell_type": "code",
   "execution_count": 16,
   "metadata": {},
   "outputs": [],
   "source": [
    "def cost_function(delta_v_norm=0, delta_unc=0, unc=0, next_vel_norm=0, error_norm=0):\n",
    "    a1 = 3\n",
    "    a2 = 0\n",
    "    a3 = 4\n",
    "    a4 = 0\n",
    "    a5 = 0.1\n",
    "    \n",
    "    sum_of_terms = a1*delta_v_norm**2 + a2*delta_unc + a3*unc**2 + \\\n",
    "        a4*next_vel_norm**2 + a5*error_norm**2\n",
    "    return sum_of_terms\n",
    "\n",
    "# Takes min velocity, max velocity, num\n",
    "vel_prof = VelocityProfiler(10, 100, 10)\n",
    "traj = vel_prof.get_velocity_profile(50, path, uncertainties, cost_function)"
   ]
  },
  {
   "cell_type": "markdown",
   "metadata": {},
   "source": [
    "As last step we instantiate Velocity Profiler and we set a start velocity"
   ]
  },
  {
   "cell_type": "code",
   "execution_count": 17,
   "metadata": {},
   "outputs": [],
   "source": [
    "# Takes min velocity, max velocity, num\n",
    "min_vel = 10\n",
    "max_vel = 100\n",
    "num = 10\n",
    "start_vel = 50\n",
    "\n",
    "vel_prof = VelocityProfiler(min_vel, max_vel, num)\n",
    "traj = vel_prof.get_velocity_profile(start_vel, path, uncertainties, cost_function)"
   ]
  },
  {
   "cell_type": "markdown",
   "metadata": {},
   "source": [
    "## Plot of results"
   ]
  },
  {
   "cell_type": "code",
   "execution_count": 18,
   "metadata": {},
   "outputs": [
    {
     "data": {
      "text/plain": [
       "Text(0, 0.5, 'Probability')"
      ]
     },
     "execution_count": 18,
     "metadata": {},
     "output_type": "execute_result"
    },
    {
     "data": {
      "image/png": "[encoded data removed]",
      "text/plain": [
       "<Figure size 792x576 with 3 Axes>"
      ]
     },
     "metadata": {
      "needs_background": "light"
     },
     "output_type": "display_data"
    }
   ],
   "source": [
    "%matplotlib inline\n",
    "import matplotlib.pyplot as plt\n",
    "\n",
    "f, axarr = plt.subplots(3, sharex=True, figsize=(11, 8))\n",
    "for cost, vels in vel_prof.trajectory_history:\n",
    "    axarr[0].plot(vels, c='C0')\n",
    "axarr[0].plot(traj, c='r')\n",
    "axarr[0].set_title('Velocity Profiling')\n",
    "axarr[0].set_ylabel(\"Velocity\")\n",
    "axarr[1].plot(vel_prof.cost_array, c=\"C0\")\n",
    "axarr[1].set_title('Cost Function')\n",
    "axarr[1].set_ylabel(\"Total Cost\")\n",
    "axarr[2].plot(uncertainties, c=\"C0\")\n",
    "axarr[2].set_title('Probability of being Occupied')\n",
    "axarr[2].set_xlabel(\"Distance\")\n",
    "axarr[2].set_ylabel(\"Probability\")"
   ]
  },
  {
   "cell_type": "code",
   "execution_count": null,
   "metadata": {},
   "outputs": [],
   "source": []
  }
 ],
 "metadata": {
  "kernelspec": {
   "display_name": "Python 3",
   "language": "python",
   "name": "python3"
  },
  "language_info": {
   "codemirror_mode": {
    "name": "ipython",
    "version": 3
   },
   "file_extension": ".py",
   "mimetype": "text/x-python",
   "name": "python",
   "nbconvert_exporter": "python",
   "pygments_lexer": "ipython3",
   "version": "3.5.2"
  }
 },
 "nbformat": 4,
 "nbformat_minor": 2
}
