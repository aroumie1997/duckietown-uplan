{
 "cells": [
  {
   "cell_type": "markdown",
   "metadata": {},
   "source": [
    "# Setup"
   ]
  },
  {
   "cell_type": "code",
   "execution_count": 1,
   "metadata": {},
   "outputs": [],
   "source": [
    "import contracts\n",
    "contracts.disable_all()"
   ]
  },
  {
   "cell_type": "code",
   "execution_count": 2,
   "metadata": {},
   "outputs": [
    {
     "name": "stderr",
     "output_type": "stream",
     "text": [
      "INFO:dt-world:duckietown-world 1.0.15\n",
      "DEBUG:dt-serialization:Registering class Serializable\n",
      "DEBUG:dt-serialization:Registering class Serializable\n",
      "DEBUG:dt-serialization:Registering class GenericData\n",
      "DEBUG:dt-serialization:Registering class Sequence\n",
      "DEBUG:dt-serialization:Registering class SampledSequence\n",
      "DEBUG:dt-serialization:Registering class Constant\n",
      "DEBUG:dt-serialization:Registering class RectangularArea\n",
      "DEBUG:dt-serialization:Registering class TransformSequence\n",
      "DEBUG:dt-serialization:Registering class VariableTransformSequence\n",
      "DEBUG:dt-serialization:Registering class SE2Transform\n",
      "DEBUG:dt-serialization:Registering class Scale2D\n",
      "DEBUG:dt-serialization:Registering class Matrix2D\n",
      "DEBUG:dt-serialization:Registering class SpatialRelation\n",
      "DEBUG:dt-serialization:Registering class GroundTruth\n",
      "DEBUG:dt-serialization:Registering class PlacedObject\n",
      "DEBUG:dt-serialization:Registering class EvaluatedMetric\n",
      "DEBUG:dt-serialization:Registering class GenericObject\n",
      "DEBUG:dt-serialization:Registering class Duckie\n",
      "DEBUG:dt-serialization:Registering class Decoration\n",
      "DEBUG:dt-serialization:Registering class Tree\n",
      "DEBUG:dt-serialization:Registering class Vehicle\n",
      "DEBUG:dt-serialization:Registering class Cone\n",
      "DEBUG:dt-serialization:Registering class Bus\n",
      "DEBUG:dt-serialization:Registering class Truck\n",
      "DEBUG:dt-serialization:Registering class House\n",
      "DEBUG:dt-serialization:Registering class Barrier\n",
      "DEBUG:dt-serialization:Registering class Building\n",
      "DEBUG:dt-serialization:Registering class Sign\n",
      "DEBUG:dt-serialization:Registering class SignStop\n",
      "DEBUG:dt-serialization:Registering class SignLeftTIntersect\n",
      "DEBUG:dt-serialization:Registering class SignRightTIntersect\n",
      "DEBUG:dt-serialization:Registering class SignTIntersect\n",
      "DEBUG:dt-serialization:Registering class Sign4WayIntersect\n",
      "DEBUG:dt-serialization:Registering class SignTLightAhead\n",
      "DEBUG:dt-serialization:Registering class SignOneWayRight\n",
      "DEBUG:dt-serialization:Registering class SignOneWayLeft\n",
      "DEBUG:dt-serialization:Registering class SignDuckCrossing\n",
      "DEBUG:dt-serialization:Registering class SignYield\n",
      "DEBUG:dt-serialization:Registering class SignNoLeftTurn\n",
      "DEBUG:dt-serialization:Registering class SignNoRightTurn\n",
      "DEBUG:dt-serialization:Registering class SignDoNotEnter\n",
      "DEBUG:dt-serialization:Registering class SignParking\n",
      "DEBUG:dt-serialization:Registering class SignPedestrian\n",
      "DEBUG:dt-serialization:Registering class SignSlot\n",
      "DEBUG:dt-serialization:Registering class Tile\n",
      "DEBUG:dt-serialization:Registering class Anchor\n",
      "DEBUG:dt-serialization:Registering class TileCoords\n",
      "DEBUG:dt-serialization:Registering class TileRelativeTransform\n",
      "DEBUG:dt-serialization:Registering class TileMap\n",
      "DEBUG:dt-serialization:Registering class TrafficLight\n",
      "DEBUG:dt-serialization:Registering class Duckiebot\n",
      "DEBUG:dt-serialization:Registering class DB18\n",
      "DEBUG:dt-serialization:Registering class DuckietownMap\n",
      "DEBUG:dt-serialization:Registering class TagInstance\n",
      "DEBUG:dt-serialization:Registering class FloorTag\n",
      "DEBUG:dt-serialization:Registering class Integrator2D\n",
      "DEBUG:dt-serialization:Registering class GenericKinematicsSE2\n",
      "DEBUG:dt-serialization:Registering class LanePose\n",
      "DEBUG:dt-serialization:Registering class LaneSegment\n"
     ]
    }
   ],
   "source": [
    "import duckietown_world as dw\n",
    "from duckietown_world.svg_drawing.ipython_utils import ipython_draw_html"
   ]
  },
  {
   "cell_type": "code",
   "execution_count": 3,
   "metadata": {},
   "outputs": [],
   "source": [
    "dw.logger.setLevel(50)"
   ]
  },
  {
   "cell_type": "code",
   "execution_count": 4,
   "metadata": {},
   "outputs": [
    {
     "data": {
      "text/html": [
       "<style>\n",
       "pre {line-height: 90%}\n",
       "</style>"
      ],
      "text/plain": [
       "<IPython.core.display.HTML object>"
      ]
     },
     "metadata": {},
     "output_type": "display_data"
    }
   ],
   "source": [
    "%%html\n",
    "<style>\n",
    "pre {line-height: 90%}\n",
    "</style>"
   ]
  },
  {
   "cell_type": "markdown",
   "metadata": {},
   "source": [
    "# Map"
   ]
  },
  {
   "cell_type": "code",
   "execution_count": 5,
   "metadata": {},
   "outputs": [],
   "source": [
    "m = dw.load_map('robotarium1')"
   ]
  },
  {
   "cell_type": "code",
   "execution_count": 6,
   "metadata": {},
   "outputs": [],
   "source": [
    "sk = dw.get_skeleton_graph(m)"
   ]
  },
  {
   "cell_type": "markdown",
   "metadata": {},
   "source": [
    "# Example for a path"
   ]
  },
  {
   "cell_type": "code",
   "execution_count": 7,
   "metadata": {},
   "outputs": [],
   "source": [
    "start = 'P60'\n",
    "end = 'P36'"
   ]
  },
  {
   "cell_type": "code",
   "execution_count": 8,
   "metadata": {},
   "outputs": [
    {
     "name": "stdout",
     "output_type": "stream",
     "text": [
      "['P60', 'P23', 'P41', 'P62', 'P32', 'P20', 'P67', 'P39', 'P36']\n"
     ]
    }
   ],
   "source": [
    "import networkx as nx\n",
    "path = nx.shortest_path(sk.G, start, end)\n",
    "print(path)"
   ]
  },
  {
   "cell_type": "markdown",
   "metadata": {},
   "source": [
    "# Cost function "
   ]
  },
  {
   "cell_type": "code",
   "execution_count": 9,
   "metadata": {},
   "outputs": [],
   "source": [
    "def cost_function():\n",
    "    import random as rn\n",
    "    return rn.randint(0,10)\n",
    "    "
   ]
  },
  {
   "cell_type": "markdown",
   "metadata": {},
   "source": [
    "# Function that creates velocity profiler graph"
   ]
  },
  {
   "cell_type": "code",
   "execution_count": 10,
   "metadata": {},
   "outputs": [],
   "source": [
    "def get_lanes(path, G):\n",
    "    edges = zip(path[:-1], path[1:]) \n",
    "    lanes  = []\n",
    "    for a, b in edges:\n",
    "        lane = G.get_edge_data(a, b)[0]['lane']\n",
    "        lanes.append(lane)\n",
    "    return lanes"
   ]
  },
  {
   "cell_type": "code",
   "execution_count": 11,
   "metadata": {},
   "outputs": [],
   "source": [
    "def velocity_profiler(path, G):\n",
    "    import networkx as nx\n",
    "    import numpy as np\n",
    "    \n",
    "    vel_G = nx.DiGraph()\n",
    "    vel_min = 0.1\n",
    "    vel_max = 0.5\n",
    "    vel_space = np.linspace(vel_min, vel_max, 5)\n",
    "    \n",
    "#     lanes = get_lanes(path);\n",
    "    \n",
    "    vel_G.add_node((1,1));\n",
    "    \n",
    "    for i in range(len(path)-1):\n",
    "        for j, vel in enumerate(vel_space):\n",
    "            vel_G.add_node((i+2, j+1))\n",
    "        \n",
    "    for (i,j) in vel_G:\n",
    "        if i==1:\n",
    "            for k, vel in enumerate(vel_space):\n",
    "                vel_G.add_edge((1,1),(2,k+1), weight = cost_function())\n",
    "        elif i<len(path):\n",
    "            for k, vel in enumerate(vel_space):\n",
    "                vel_G.add_edge((i,j),(i+1,k+1), weight = cost_function())\n",
    "                \n",
    "            \n",
    "            \n",
    "                \n",
    "    \n",
    "#     for j, vel in enumerate(vel_space):\n",
    "#         vel_G.add_edge((1, 1), (2,j), weight = cost_function())\n",
    "        \n",
    "#     for i in range(len(lanes)-2):\n",
    "#         for j, vel in enumerate(vel_space):\n",
    "#             vel_G.add_edge('node'+str(i+2)+'vel'+str(j+1),'node'+str(i+3)+'vel'+str(j+1),\n",
    "#                            weight = cost_function())\n",
    "#     for i, lane in enumerate(lanes):\n",
    "#         for j, vel in enumerate(vel_space):\n",
    "#             vel_G.addedge('node'+str(i)+,j, weight = cost_function(), velocity = vel)\n",
    "            \n",
    "    return vel_G\n",
    "        "
   ]
  },
  {
   "cell_type": "code",
   "execution_count": 12,
   "metadata": {},
   "outputs": [],
   "source": [
    "def draw_graph(G0, pos=None):\n",
    "    from matplotlib import pyplot as plt\n",
    "    pos = pos or nx.spring_layout(G0)# so nodes are nicely separated\n",
    "    plt.figure(figsize=(12, 12))    \n",
    "    nx.draw(G0,pos,labels={node:node for node in G0.nodes()})\n",
    "#     def edge_label(a, b):\n",
    "#         datas = G0.get_edge_data(a, b)\n",
    "#         s = '%d edge%s' % (len(datas), 's' if len(datas)>=2 else '')\n",
    "#         for k, v in datas.items():\n",
    "#             if v:\n",
    "#                 if 'label' in v:\n",
    "#                     s += '\\n %s' % v['label']\n",
    "#                 else:\n",
    "#                     s += '\\n %s' %v\n",
    "#         return s\n",
    "#     edge_labels = dict([ ((a,b), edge_label(a,b)) for a,b in G0.edges()])\n",
    "#     nx.draw_networkx_edge_labels(G0,pos,edge_labels=edge_labels,font_color='red')\n",
    "    plt.axis('off')\n",
    "    plt.show()"
   ]
  },
  {
   "cell_type": "code",
   "execution_count": 13,
   "metadata": {},
   "outputs": [],
   "source": [
    "vel_G = velocity_profiler(path, sk.G)"
   ]
  },
  {
   "cell_type": "code",
   "execution_count": 14,
   "metadata": {},
   "outputs": [
    {
     "data": {
      "text/plain": [
       "<Figure size 1200x1200 with 1 Axes>"
      ]
     },
     "metadata": {},
     "output_type": "display_data"
    }
   ],
   "source": [
    "draw_graph(vel_G)"
   ]
  },
  {
   "cell_type": "code",
   "execution_count": 15,
   "metadata": {},
   "outputs": [],
   "source": [
    "vel_path = nx.astar_path(vel_G, (1, 1), (len(path), 2), heuristic=None, weight='weight')"
   ]
  },
  {
   "cell_type": "code",
   "execution_count": 16,
   "metadata": {},
   "outputs": [],
   "source": [
    "import numpy as np"
   ]
  },
  {
   "cell_type": "code",
   "execution_count": 17,
   "metadata": {},
   "outputs": [],
   "source": [
    "vel_min = 0.1\n",
    "vel_max = 0.5\n",
    "vel_space = np.linspace(vel_min, vel_max, 5)"
   ]
  },
  {
   "cell_type": "code",
   "execution_count": 18,
   "metadata": {},
   "outputs": [
    {
     "name": "stdout",
     "output_type": "stream",
     "text": [
      "k: 0, node: (1, 1), velocity: 0.1\n",
      "k: 1, node: (2, 5), velocity: 0.5\n",
      "k: 2, node: (3, 1), velocity: 0.1\n",
      "k: 3, node: (4, 2), velocity: 0.2\n",
      "k: 4, node: (5, 5), velocity: 0.5\n",
      "k: 5, node: (6, 4), velocity: 0.4\n",
      "k: 6, node: (7, 1), velocity: 0.1\n",
      "k: 7, node: (8, 1), velocity: 0.1\n",
      "k: 8, node: (9, 2), velocity: 0.2\n"
     ]
    }
   ],
   "source": [
    "for k, node in enumerate(vel_path):\n",
    "    print('k: {}, node: {}, velocity: {}'.format(k, node, vel_space[node[1]-1]))"
   ]
  }
 ],
 "metadata": {
  "kernelspec": {
   "display_name": "Python 2",
   "language": "python",
   "name": "python2"
  },
  "language_info": {
   "codemirror_mode": {
    "name": "ipython",
    "version": 2
   },
   "file_extension": ".py",
   "mimetype": "text/x-python",
   "name": "python",
   "nbconvert_exporter": "python",
   "pygments_lexer": "ipython2",
   "version": "2.7.15"
  }
 },
 "nbformat": 4,
 "nbformat_minor": 2
}
