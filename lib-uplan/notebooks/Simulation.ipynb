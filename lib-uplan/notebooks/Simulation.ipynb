{
 "cells": [
  {
   "cell_type": "code",
   "execution_count": 1,
   "metadata": {},
   "outputs": [],
   "source": [
    "import contracts\n",
    "contracts.disable_all()"
   ]
  },
  {
   "cell_type": "code",
   "execution_count": 2,
   "metadata": {},
   "outputs": [
    {
     "name": "stderr",
     "output_type": "stream",
     "text": [
      "INFO:dt-uplan:duckietown_uplan 1.0.0\n",
      "INFO:dt-world:duckietown-world 1.0.19\n",
      "DEBUG:dt-serialization:Registering class Serializable\n",
      "DEBUG:dt-serialization:Registering class GenericData\n",
      "DEBUG:dt-serialization:Registering class Sequence\n",
      "DEBUG:dt-serialization:Registering class SampledSequence\n",
      "DEBUG:dt-serialization:Registering class Constant\n",
      "DEBUG:dt-serialization:Registering class RectangularArea\n",
      "DEBUG:dt-serialization:Registering class TransformSequence\n",
      "DEBUG:dt-serialization:Registering class VariableTransformSequence\n",
      "DEBUG:dt-serialization:Registering class SE2Transform\n",
      "DEBUG:dt-serialization:Registering class Scale2D\n",
      "DEBUG:dt-serialization:Registering class Matrix2D\n",
      "DEBUG:dt-serialization:Registering class SpatialRelation\n",
      "DEBUG:dt-serialization:Registering class GroundTruth\n",
      "DEBUG:dt-serialization:Registering class PlacedObject\n",
      "DEBUG:dt-serialization:Registering class EvaluatedMetric\n",
      "DEBUG:dt-serialization:Registering class GenericObject\n",
      "DEBUG:dt-serialization:Registering class Duckie\n",
      "DEBUG:dt-serialization:Registering class Decoration\n",
      "DEBUG:dt-serialization:Registering class Tree\n",
      "DEBUG:dt-serialization:Registering class Vehicle\n",
      "DEBUG:dt-serialization:Registering class Cone\n",
      "DEBUG:dt-serialization:Registering class Bus\n",
      "DEBUG:dt-serialization:Registering class Truck\n",
      "DEBUG:dt-serialization:Registering class House\n",
      "DEBUG:dt-serialization:Registering class Barrier\n",
      "DEBUG:dt-serialization:Registering class Building\n",
      "DEBUG:dt-serialization:Registering class Sign\n",
      "DEBUG:dt-serialization:Registering class SignStop\n",
      "DEBUG:dt-serialization:Registering class SignLeftTIntersect\n",
      "DEBUG:dt-serialization:Registering class SignRightTIntersect\n",
      "DEBUG:dt-serialization:Registering class SignTIntersect\n",
      "DEBUG:dt-serialization:Registering class Sign4WayIntersect\n",
      "DEBUG:dt-serialization:Registering class SignTLightAhead\n",
      "DEBUG:dt-serialization:Registering class SignOneWayRight\n",
      "DEBUG:dt-serialization:Registering class SignOneWayLeft\n",
      "DEBUG:dt-serialization:Registering class SignDuckCrossing\n",
      "DEBUG:dt-serialization:Registering class SignYield\n",
      "DEBUG:dt-serialization:Registering class SignNoLeftTurn\n",
      "DEBUG:dt-serialization:Registering class SignNoRightTurn\n",
      "DEBUG:dt-serialization:Registering class SignDoNotEnter\n",
      "DEBUG:dt-serialization:Registering class SignParking\n",
      "DEBUG:dt-serialization:Registering class SignPedestrian\n",
      "DEBUG:dt-serialization:Registering class SignSlot\n",
      "DEBUG:dt-serialization:Registering class Tile\n",
      "DEBUG:dt-serialization:Registering class Anchor\n",
      "DEBUG:dt-serialization:Registering class TileCoords\n",
      "DEBUG:dt-serialization:Registering class TileRelativeTransform\n",
      "DEBUG:dt-serialization:Registering class TileMap\n",
      "DEBUG:dt-serialization:Registering class TrafficLight\n",
      "DEBUG:dt-serialization:Registering class Duckiebot\n",
      "DEBUG:dt-serialization:Registering class DB18\n",
      "DEBUG:dt-serialization:Registering class DuckietownMap\n",
      "DEBUG:dt-serialization:Registering class TagInstance\n",
      "DEBUG:dt-serialization:Registering class FloorTag\n",
      "DEBUG:dt-serialization:Registering class Integrator2D\n",
      "DEBUG:dt-serialization:Registering class GenericKinematicsSE2\n",
      "DEBUG:dt-serialization:Registering class LanePose\n",
      "DEBUG:dt-serialization:Registering class LaneSegment\n"
     ]
    }
   ],
   "source": [
    "import duckietown_uplan as uplan"
   ]
  },
  {
   "cell_type": "code",
   "execution_count": 3,
   "metadata": {},
   "outputs": [
    {
     "name": "stderr",
     "output_type": "stream",
     "text": [
      "INFO:dt-world:loading map 4way\n"
     ]
    },
    {
     "name": "stdout",
     "output_type": "stream",
     "text": [
      "Started move function\n",
      "distance to travel:  0.25\n",
      "distance to next control point is :  0.1570796326794896\n",
      "reached a control point here\n",
      "reached a control point here\n",
      "reached a control point here\n"
     ]
    }
   ],
   "source": [
    "import duckietown_world as dw\n",
    "import numpy as np\n",
    "np.random.seed(3)\n",
    "current_map = dw.load_map('4way')\n",
    "simulation_exp = uplan.ConstantProbabiltiySim(current_map, 1)\n",
    "simulation_exp.execute_simulation(1)"
   ]
  },
  {
   "cell_type": "code",
   "execution_count": 4,
   "metadata": {},
   "outputs": [],
   "source": [
    "# simulation_exp.render_current_state()\n",
    "path = simulation_exp.duckie_town.duckie_citizens[0].get_path()"
   ]
  },
  {
   "cell_type": "code",
   "execution_count": 5,
   "metadata": {},
   "outputs": [],
   "source": [
    "def cost_function(delta_v_norm=0, delta_unc=0, unc=0, next_vel_norm=0, error_norm=0):\n",
    "    \n",
    "    a1 = 3\n",
    "    a2 = 0\n",
    "    a3 = 4\n",
    "    a4 = 0\n",
    "    a5 = 0.1\n",
    "    \n",
    "    sum_of_terms = a1*delta_v_norm**2 + a2*delta_unc + a3*unc**2 + \\\n",
    "        a4*next_vel_norm**2 + a5*error_norm**2\n",
    "    return sum_of_terms"
   ]
  },
  {
   "cell_type": "code",
   "execution_count": 6,
   "metadata": {
    "scrolled": true
   },
   "outputs": [
    {
     "name": "stdout",
     "output_type": "stream",
     "text": [
      "delta_v_norm[0.0, 0.018541356326100378, 0.07279029772675571, 0.15872342839067294, 0.2699674811344239, 0.39827199347368303, 0.5341212066823354, 0.6674398060854931, 0.7883401610574335, 0.8878556453522098, 0.9586056507527264, 0.9953429730181653, 0.9953429730181653, 0.9586056507527265, 0.88785564535221, 0.7883401610574337, 0.6674398060854931, 0.5341212066823356, 0.39827199347368336, 0.2699674811344242, 0.15872342839067322, 0.07279029772675571, 0.018541356326100378, 0.0, 0.018541356326100322, 0.0727902977267556, 0.15872342839067272, 0.2699674811344236, 0.39827199347368314, 0.5341212066823354, 0.6674398060854929, 0.788340161057433, 0.8878556453522097, 0.9586056507527265, 0.9953429730181653, 0.9953429730181653, 0.9586056507527267, 0.88785564535221, 0.7883401610574341, 0.6674398060854934, 0.5341212066823362, 0.39827199347368347, 0.2699674811344239, 0.15872342839067333, 0.07279029772675577, 0.018541356326100544, 0.0]\n"
     ]
    },
    {
     "data": {
      "text/plain": [
       "[100.0,\n",
       " 90.0,\n",
       " 80.0,\n",
       " 70.0,\n",
       " 60.0,\n",
       " 50.0,\n",
       " 40.0,\n",
       " 30.0,\n",
       " 20.0,\n",
       " 10.0,\n",
       " 10.0,\n",
       " 10.0,\n",
       " 10.0,\n",
       " 10.0,\n",
       " 10.0,\n",
       " 10.0,\n",
       " 10.0,\n",
       " 10.0,\n",
       " 20.0,\n",
       " 20.0,\n",
       " 30.0,\n",
       " 40.0,\n",
       " 40.0,\n",
       " 40.0,\n",
       " 40.0,\n",
       " 40.0,\n",
       " 40.0,\n",
       " 40.0,\n",
       " 30.0,\n",
       " 20.0,\n",
       " 20.0,\n",
       " 10.0,\n",
       " 10.0,\n",
       " 10.0,\n",
       " 10.0,\n",
       " 10.0,\n",
       " 10.0,\n",
       " 10.0,\n",
       " 10.0,\n",
       " 10.0,\n",
       " 10.0,\n",
       " 20.0,\n",
       " 20.0,\n",
       " 30.0,\n",
       " 40.0,\n",
       " 40.0,\n",
       " 40.0]"
      ]
     },
     "execution_count": 6,
     "metadata": {},
     "output_type": "execute_result"
    }
   ],
   "source": [
    "from duckietown_uplan.algo.velocity_profiler import VelocityProfiler\n",
    "vel_prof = VelocityProfiler(10, 100, 10)\n",
    "traj = vel_prof.get_velocity_profile(100, path, cost_function)\n",
    "traj"
   ]
  },
  {
   "cell_type": "code",
   "execution_count": 23,
   "metadata": {},
   "outputs": [
    {
     "data": {
      "text/plain": [
       "Text(0, 0.5, 'Probability')"
      ]
     },
     "execution_count": 23,
     "metadata": {},
     "output_type": "execute_result"
    },
    {
     "data": {
      "image/png": "[encoded data removed]",
      "text/plain": [
       "<Figure size 792x576 with 3 Axes>"
      ]
     },
     "metadata": {
      "needs_background": "light"
     },
     "output_type": "display_data"
    }
   ],
   "source": [
    "%matplotlib inline\n",
    "import matplotlib.pyplot as plt\n",
    "\n",
    "f = lambda x: 0.5 - 0.5*np.cos(x)\n",
    "t = np.linspace(0, 4*np.pi, len(path))\n",
    "\n",
    "uncertainties = [f(x) for x in t]\n",
    "\n",
    "\n",
    "f, axarr = plt.subplots(3, sharex=True, figsize=(11, 8))\n",
    "for cost, vels in vel_prof.trajectory_history:\n",
    "    axarr[0].plot(vels, c='C0')\n",
    "axarr[0].plot(traj, c='r')\n",
    "axarr[0].set_title('Velocity Profiling')\n",
    "axarr[0].set_ylabel(\"Velocity\")\n",
    "axarr[1].plot(vel_prof.cost_array)\n",
    "axarr[1].set_title('Cost Function')\n",
    "axarr[1].set_ylabel(\"Total Cost\")\n",
    "axarr[2].plot(uncertainties, c=\"C0\")\n",
    "axarr[2].set_title('Probability of being Occupied')\n",
    "axarr[2].set_xlabel(\"Distance\")\n",
    "axarr[2].set_ylabel(\"Probability\")\n",
    "\n",
    "\n",
    "\n"
   ]
  },
  {
   "cell_type": "code",
   "execution_count": null,
   "metadata": {},
   "outputs": [],
   "source": []
  },
  {
   "cell_type": "code",
   "execution_count": null,
   "metadata": {},
   "outputs": [],
   "source": []
  },
  {
   "cell_type": "markdown",
   "metadata": {},
   "source": [
    "for i, j in vel_prof.vel_graph.edges():\n",
    "    if i[0] == 0 and j[0] == 1:\n",
    "        print(str(i)+str(j) +\"_\"+ str(vel_prof.vel_graph[i][j]))"
   ]
  },
  {
   "cell_type": "code",
   "execution_count": 8,
   "metadata": {},
   "outputs": [],
   "source": [
    "def draw_graph(G0, pos=None):\n",
    "    import networkx as nx\n",
    "    from matplotlib import pyplot as plt\n",
    "    pos = pos or nx.spring_layout(G0)\n",
    "    plt.figure(figsize=(12, 12))    \n",
    "    nx.draw(G0,pos,labels={node:node for node in G0.nodes()})\n",
    "    def edge_label(a, b):\n",
    "        datas = G0.get_edge_data(a, b)\n",
    "        s = '%d edge%s' % (len(datas), 's' if len(datas)>=2 else '')\n",
    "        for k, v in datas.items():\n",
    "            if v:\n",
    "                if 'label' in v:\n",
    "                    s += '\\n %s' % v['label']\n",
    "                else:\n",
    "                    s += '\\n %s' %v\n",
    "        return s\n",
    "    #edge_labels = dict([ ((a,b), edge_label(a,b)) for a,b in G0.edges()])\n",
    "    nx.draw_networkx_edge_labels(G0,pos,edge_labels=None,font_color='red')\n",
    "    plt.axis('off')\n",
    "    plt.show()"
   ]
  },
  {
   "cell_type": "code",
   "execution_count": null,
   "metadata": {},
   "outputs": [],
   "source": []
  },
  {
   "cell_type": "markdown",
   "metadata": {},
   "source": [
    "%matplotlib inline\n",
    "import geometry as geo\n",
    "pos = {}\n",
    "for n in vel_prof.vel_graph:\n",
    "    pos[n] = (n[0], n[1])\n",
    "draw_graph(vel_prof.vel_graph, pos=pos)"
   ]
  },
  {
   "cell_type": "code",
   "execution_count": null,
   "metadata": {},
   "outputs": [],
   "source": []
  },
  {
   "cell_type": "code",
   "execution_count": null,
   "metadata": {},
   "outputs": [],
   "source": []
  },
  {
   "cell_type": "code",
   "execution_count": null,
   "metadata": {},
   "outputs": [],
   "source": []
  },
  {
   "cell_type": "code",
   "execution_count": null,
   "metadata": {},
   "outputs": [],
   "source": []
  },
  {
   "cell_type": "code",
   "execution_count": null,
   "metadata": {},
   "outputs": [],
   "source": []
  }
 ],
 "metadata": {
  "kernelspec": {
   "display_name": "Python 3",
   "language": "python",
   "name": "python3"
  },
  "language_info": {
   "codemirror_mode": {
    "name": "ipython",
    "version": 3
   },
   "file_extension": ".py",
   "mimetype": "text/x-python",
   "name": "python",
   "nbconvert_exporter": "python",
   "pygments_lexer": "ipython3",
   "version": "3.5.2"
  }
 },
 "nbformat": 4,
 "nbformat_minor": 2
}
