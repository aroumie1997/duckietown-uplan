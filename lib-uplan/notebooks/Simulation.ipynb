{
 "cells": [
  {
   "cell_type": "code",
   "execution_count": 1,
   "metadata": {},
   "outputs": [],
   "source": [
    "import contracts\n",
    "contracts.disable_all()"
   ]
  },
  {
   "cell_type": "code",
   "execution_count": 2,
   "metadata": {},
   "outputs": [
    {
     "name": "stderr",
     "output_type": "stream",
     "text": [
      "INFO:dt-uplan:duckietown_uplan 1.0.0\n",
      "INFO:dt-world:duckietown-world 1.0.19\n",
      "DEBUG:dt-serialization:Registering class Serializable\n",
      "DEBUG:dt-serialization:Registering class GenericData\n",
      "DEBUG:dt-serialization:Registering class Sequence\n",
      "DEBUG:dt-serialization:Registering class SampledSequence\n",
      "DEBUG:dt-serialization:Registering class Constant\n",
      "DEBUG:dt-serialization:Registering class RectangularArea\n",
      "DEBUG:dt-serialization:Registering class TransformSequence\n",
      "DEBUG:dt-serialization:Registering class VariableTransformSequence\n",
      "DEBUG:dt-serialization:Registering class SE2Transform\n",
      "DEBUG:dt-serialization:Registering class Scale2D\n",
      "DEBUG:dt-serialization:Registering class Matrix2D\n",
      "DEBUG:dt-serialization:Registering class SpatialRelation\n",
      "DEBUG:dt-serialization:Registering class GroundTruth\n",
      "DEBUG:dt-serialization:Registering class PlacedObject\n",
      "DEBUG:dt-serialization:Registering class EvaluatedMetric\n",
      "DEBUG:dt-serialization:Registering class GenericObject\n",
      "DEBUG:dt-serialization:Registering class Duckie\n",
      "DEBUG:dt-serialization:Registering class Decoration\n",
      "DEBUG:dt-serialization:Registering class Tree\n",
      "DEBUG:dt-serialization:Registering class Vehicle\n",
      "DEBUG:dt-serialization:Registering class Cone\n",
      "DEBUG:dt-serialization:Registering class Bus\n",
      "DEBUG:dt-serialization:Registering class Truck\n",
      "DEBUG:dt-serialization:Registering class House\n",
      "DEBUG:dt-serialization:Registering class Barrier\n",
      "DEBUG:dt-serialization:Registering class Building\n",
      "DEBUG:dt-serialization:Registering class Sign\n",
      "DEBUG:dt-serialization:Registering class SignStop\n",
      "DEBUG:dt-serialization:Registering class SignLeftTIntersect\n",
      "DEBUG:dt-serialization:Registering class SignRightTIntersect\n",
      "DEBUG:dt-serialization:Registering class SignTIntersect\n",
      "DEBUG:dt-serialization:Registering class Sign4WayIntersect\n",
      "DEBUG:dt-serialization:Registering class SignTLightAhead\n",
      "DEBUG:dt-serialization:Registering class SignOneWayRight\n",
      "DEBUG:dt-serialization:Registering class SignOneWayLeft\n",
      "DEBUG:dt-serialization:Registering class SignDuckCrossing\n",
      "DEBUG:dt-serialization:Registering class SignYield\n",
      "DEBUG:dt-serialization:Registering class SignNoLeftTurn\n",
      "DEBUG:dt-serialization:Registering class SignNoRightTurn\n",
      "DEBUG:dt-serialization:Registering class SignDoNotEnter\n",
      "DEBUG:dt-serialization:Registering class SignParking\n",
      "DEBUG:dt-serialization:Registering class SignPedestrian\n",
      "DEBUG:dt-serialization:Registering class SignSlot\n",
      "DEBUG:dt-serialization:Registering class Tile\n",
      "DEBUG:dt-serialization:Registering class Anchor\n",
      "DEBUG:dt-serialization:Registering class TileCoords\n",
      "DEBUG:dt-serialization:Registering class TileRelativeTransform\n",
      "DEBUG:dt-serialization:Registering class TileMap\n",
      "DEBUG:dt-serialization:Registering class TrafficLight\n",
      "DEBUG:dt-serialization:Registering class Duckiebot\n",
      "DEBUG:dt-serialization:Registering class DB18\n",
      "DEBUG:dt-serialization:Registering class DuckietownMap\n",
      "DEBUG:dt-serialization:Registering class TagInstance\n",
      "DEBUG:dt-serialization:Registering class FloorTag\n",
      "DEBUG:dt-serialization:Registering class Integrator2D\n",
      "DEBUG:dt-serialization:Registering class GenericKinematicsSE2\n",
      "DEBUG:dt-serialization:Registering class LanePose\n",
      "DEBUG:dt-serialization:Registering class LaneSegment\n"
     ]
    }
   ],
   "source": [
    "import duckietown_uplan as uplan"
   ]
  },
  {
   "cell_type": "code",
   "execution_count": 3,
   "metadata": {},
   "outputs": [
    {
     "name": "stderr",
     "output_type": "stream",
     "text": [
      "INFO:dt-world:loading map 4way\n"
     ]
    }
   ],
   "source": [
    "import duckietown_world as dw\n",
    "current_map = dw.load_map('4way')\n",
    "simulation_exp = uplan.ConstantProbabiltiySim(current_map, 3)"
   ]
  },
  {
   "cell_type": "code",
   "execution_count": 4,
   "metadata": {},
   "outputs": [],
   "source": [
    "# simulation_exp.render_current_state()\n",
    "max_rad = simulation_exp.duckie_town.duckie_citizens[0].get_max_radius()\n",
    "current_graph = simulation_exp.duckie_town.get_current_graph()"
   ]
  },
  {
   "cell_type": "code",
   "execution_count": null,
   "metadata": {},
   "outputs": [],
   "source": []
  },
  {
   "cell_type": "code",
   "execution_count": 14,
   "metadata": {},
   "outputs": [
    {
     "ename": "AttributeError",
     "evalue": "'FootprintTable' object has no attribute 'get_data'",
     "output_type": "error",
     "traceback": [
      "\u001b[0;31m---------------------------------------------------------------------------\u001b[0m",
      "\u001b[0;31mAttributeError\u001b[0m                            Traceback (most recent call last)",
      "\u001b[0;32m<ipython-input-14-a07455535bf2>\u001b[0m in \u001b[0;36m<module>\u001b[0;34m\u001b[0m\n\u001b[1;32m      1\u001b[0m \u001b[0;32mfrom\u001b[0m \u001b[0mduckietown_uplan\u001b[0m\u001b[0;34m.\u001b[0m\u001b[0menvironment\u001b[0m\u001b[0;34m.\u001b[0m\u001b[0mfootprint_table\u001b[0m \u001b[0;32mimport\u001b[0m \u001b[0mFootprintTable\u001b[0m\u001b[0;34m\u001b[0m\u001b[0m\n\u001b[1;32m      2\u001b[0m \u001b[0mfoot_print_table\u001b[0m \u001b[0;34m=\u001b[0m \u001b[0mFootprintTable\u001b[0m\u001b[0;34m(\u001b[0m\u001b[0mcurrent_graph\u001b[0m\u001b[0;34m,\u001b[0m \u001b[0mmax_rad\u001b[0m\u001b[0;34m)\u001b[0m\u001b[0;34m\u001b[0m\u001b[0m\n\u001b[0;32m----> 3\u001b[0;31m \u001b[0mdata\u001b[0m \u001b[0;34m=\u001b[0m \u001b[0mfoot_print_table\u001b[0m\u001b[0;34m.\u001b[0m\u001b[0mget_data\u001b[0m\u001b[0;34m(\u001b[0m\u001b[0;34m)\u001b[0m\u001b[0;34m\u001b[0m\u001b[0m\n\u001b[0m",
      "\u001b[0;31mAttributeError\u001b[0m: 'FootprintTable' object has no attribute 'get_data'"
     ]
    }
   ],
   "source": [
    "from duckietown_uplan.environment.footprint_table import FootprintTable\n",
    "foot_print_table = FootprintTable(current_graph, max_rad)\n",
    "data = foot_print_table.get_data()"
   ]
  },
  {
   "cell_type": "code",
   "execution_count": 6,
   "metadata": {},
   "outputs": [],
   "source": []
  },
  {
   "cell_type": "code",
   "execution_count": null,
   "metadata": {},
   "outputs": [],
   "source": []
  }
 ],
 "metadata": {
  "kernelspec": {
   "display_name": "Python 3",
   "language": "python",
   "name": "python3"
  },
  "language_info": {
   "codemirror_mode": {
    "name": "ipython",
    "version": 3
   },
   "file_extension": ".py",
   "mimetype": "text/x-python",
   "name": "python",
   "nbconvert_exporter": "python",
   "pygments_lexer": "ipython3",
   "version": "3.5.2"
  }
 },
 "nbformat": 4,
 "nbformat_minor": 2
}
