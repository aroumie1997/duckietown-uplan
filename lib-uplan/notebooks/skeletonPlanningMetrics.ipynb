{
 "cells": [
  {
   "cell_type": "markdown",
   "metadata": {},
   "source": [
    "# Setup"
   ]
  },
  {
   "cell_type": "code",
   "execution_count": 1,
   "metadata": {},
   "outputs": [],
   "source": [
    "import contracts\n",
    "contracts.disable_all()"
   ]
  },
  {
   "cell_type": "code",
   "execution_count": 2,
   "metadata": {},
   "outputs": [
    {
     "name": "stderr",
     "output_type": "stream",
     "text": [
      "INFO:dt-world:duckietown-world 1.0.17\n",
      "DEBUG:dt-serialization:Registering class Serializable\n",
      "DEBUG:dt-serialization:Registering class Serializable\n",
      "DEBUG:dt-serialization:Registering class GenericData\n",
      "DEBUG:dt-serialization:Registering class Sequence\n",
      "DEBUG:dt-serialization:Registering class SampledSequence\n",
      "DEBUG:dt-serialization:Registering class Constant\n",
      "DEBUG:dt-serialization:Registering class RectangularArea\n",
      "DEBUG:dt-serialization:Registering class TransformSequence\n",
      "DEBUG:dt-serialization:Registering class VariableTransformSequence\n",
      "DEBUG:dt-serialization:Registering class SE2Transform\n",
      "DEBUG:dt-serialization:Registering class Scale2D\n",
      "DEBUG:dt-serialization:Registering class Matrix2D\n",
      "DEBUG:dt-serialization:Registering class SpatialRelation\n",
      "DEBUG:dt-serialization:Registering class GroundTruth\n",
      "DEBUG:dt-serialization:Registering class PlacedObject\n",
      "DEBUG:dt-serialization:Registering class EvaluatedMetric\n",
      "DEBUG:dt-serialization:Registering class GenericObject\n",
      "DEBUG:dt-serialization:Registering class Duckie\n",
      "DEBUG:dt-serialization:Registering class Decoration\n",
      "DEBUG:dt-serialization:Registering class Tree\n",
      "DEBUG:dt-serialization:Registering class Vehicle\n",
      "DEBUG:dt-serialization:Registering class Cone\n",
      "DEBUG:dt-serialization:Registering class Bus\n",
      "DEBUG:dt-serialization:Registering class Truck\n",
      "DEBUG:dt-serialization:Registering class House\n",
      "DEBUG:dt-serialization:Registering class Barrier\n",
      "DEBUG:dt-serialization:Registering class Building\n",
      "DEBUG:dt-serialization:Registering class Sign\n",
      "DEBUG:dt-serialization:Registering class SignStop\n",
      "DEBUG:dt-serialization:Registering class SignLeftTIntersect\n",
      "DEBUG:dt-serialization:Registering class SignRightTIntersect\n",
      "DEBUG:dt-serialization:Registering class SignTIntersect\n",
      "DEBUG:dt-serialization:Registering class Sign4WayIntersect\n",
      "DEBUG:dt-serialization:Registering class SignTLightAhead\n",
      "DEBUG:dt-serialization:Registering class SignOneWayRight\n",
      "DEBUG:dt-serialization:Registering class SignOneWayLeft\n",
      "DEBUG:dt-serialization:Registering class SignDuckCrossing\n",
      "DEBUG:dt-serialization:Registering class SignYield\n",
      "DEBUG:dt-serialization:Registering class SignNoLeftTurn\n",
      "DEBUG:dt-serialization:Registering class SignNoRightTurn\n",
      "DEBUG:dt-serialization:Registering class SignDoNotEnter\n",
      "DEBUG:dt-serialization:Registering class SignParking\n",
      "DEBUG:dt-serialization:Registering class SignPedestrian\n",
      "DEBUG:dt-serialization:Registering class SignSlot\n",
      "DEBUG:dt-serialization:Registering class Tile\n",
      "DEBUG:dt-serialization:Registering class Anchor\n",
      "DEBUG:dt-serialization:Registering class TileCoords\n",
      "DEBUG:dt-serialization:Registering class TileRelativeTransform\n",
      "DEBUG:dt-serialization:Registering class TileMap\n",
      "DEBUG:dt-serialization:Registering class TrafficLight\n",
      "DEBUG:dt-serialization:Registering class Duckiebot\n",
      "DEBUG:dt-serialization:Registering class DB18\n",
      "DEBUG:dt-serialization:Registering class DuckietownMap\n",
      "DEBUG:dt-serialization:Registering class TagInstance\n",
      "DEBUG:dt-serialization:Registering class FloorTag\n",
      "DEBUG:dt-serialization:Registering class Integrator2D\n",
      "DEBUG:dt-serialization:Registering class GenericKinematicsSE2\n",
      "DEBUG:dt-serialization:Registering class LanePose\n",
      "DEBUG:dt-serialization:Registering class LaneSegment\n"
     ]
    }
   ],
   "source": [
    "import duckietown_world as dw\n",
    "from duckietown_world.svg_drawing.ipython_utils import ipython_draw_html"
   ]
  },
  {
   "cell_type": "code",
   "execution_count": 3,
   "metadata": {},
   "outputs": [],
   "source": [
    "dw.logger.setLevel(50)"
   ]
  },
  {
   "cell_type": "markdown",
   "metadata": {},
   "source": [
    "Better visualization of output"
   ]
  },
  {
   "cell_type": "code",
   "execution_count": 4,
   "metadata": {},
   "outputs": [
    {
     "data": {
      "text/html": [
       "<style>\n",
       "pre {line-height: 90%}\n",
       "</style>"
      ],
      "text/plain": [
       "<IPython.core.display.HTML object>"
      ]
     },
     "metadata": {},
     "output_type": "display_data"
    }
   ],
   "source": [
    "%%html\n",
    "<style>\n",
    "pre {line-height: 90%}\n",
    "</style>"
   ]
  },
  {
   "cell_type": "markdown",
   "metadata": {},
   "source": [
    "# Road Network\n",
    "Let's load a map and compute the road network."
   ]
  },
  {
   "cell_type": "code",
   "execution_count": 5,
   "metadata": {},
   "outputs": [],
   "source": [
    "m = dw.load_map('robotarium1')\n"
   ]
  },
  {
   "cell_type": "markdown",
   "metadata": {},
   "source": [
    "Use the function `get_skeleton_graph`:"
   ]
  },
  {
   "cell_type": "code",
   "execution_count": 6,
   "metadata": {},
   "outputs": [],
   "source": [
    "sk = dw.get_skeleton_graph(m)"
   ]
  },
  {
   "cell_type": "markdown",
   "metadata": {},
   "source": [
    "The return type is `SkeletonGraphResult`. It contains in `sk.root2` a new map with the joined lane segments. "
   ]
  },
  {
   "cell_type": "code",
   "execution_count": 7,
   "metadata": {
    "scrolled": false
   },
   "outputs": [
    {
     "data": {
      "text/html": [
       "\n",
       "        <iframe\n",
       "            width=\"100%\"\n",
       "            height=\"600\"\n",
       "            src=\"out/ipython_draw_html/140666867586832/drawing.html\"\n",
       "            frameborder=\"0\"\n",
       "            allowfullscreen\n",
       "        ></iframe>\n",
       "        "
      ],
      "text/plain": [
       "<IPython.lib.display.IFrame at 0x7fef8ea329d0>"
      ]
     },
     "metadata": {},
     "output_type": "display_data"
    }
   ],
   "source": [
    "ipython_draw_html(sk.root2);"
   ]
  },
  {
   "cell_type": "markdown",
   "metadata": {},
   "source": [
    "While in the attribute `sk.G` we find a graph describing the topology.\n",
    "\n",
    "This is a graph where each node is a meeting point between lanes, and each edge represents a lane."
   ]
  },
  {
   "cell_type": "code",
   "execution_count": 23,
   "metadata": {},
   "outputs": [],
   "source": [
    "# nodes\n",
    "#print(len(list(sk.G.nodes())))\n",
    "a = list(sk.G.nodes())\n",
    "b = list(sk.G.edges())\n",
    "# print(sk.G.graph)\n",
    "# print(sk.G['P0'])\n",
    "# print(sk.root2)"
   ]
  },
  {
   "cell_type": "code",
   "execution_count": 9,
   "metadata": {},
   "outputs": [],
   "source": [
    "# Nodes as SE2\n",
    "import geometry as geo\n",
    "pos = {}\n",
    "for n in sk.G:\n",
    "    q = sk.G.nodes[n]['point'].as_SE2()\n",
    "    t,p = geo.translation_angle_from_SE2(q)\n",
    "    pos[n] = t\n",
    "    # print t,p"
   ]
  },
  {
   "cell_type": "code",
   "execution_count": 10,
   "metadata": {
    "scrolled": true
   },
   "outputs": [],
   "source": [
    "# Access edges\n",
    "for n1, n2 in sk.G.edges():\n",
    "    data = sk.G.get_edge_data(n1, n2)\n",
    "    one_lane = data[0]['lane']\n",
    "    #print('I can go from %s to %s using lane %s' % (n1, n2, one_lane))"
   ]
  },
  {
   "cell_type": "code",
   "execution_count": 24,
   "metadata": {},
   "outputs": [
    {
     "data": {
      "text/plain": [
       "\"\\n# Node diction: {node_name: [list of node neighbours]}\\n# Iterate over all nodes and find all potential neighbours\\nnode_dict = dict()\\nfor n1, n2 in sk.G.edges():\\n    data = sk.G.get_edge_data(n1, n2)\\n    one_lane = data[0]['lane']\\n    if n1 in list(node_dict.keys()):\\n        node_dict[n1].append(n2)\\n    else:\\n        node_dict[n1] = [n2]\\n\\n#node list\\nkeys = list(node_dict.keys())\\n\\nfor k in keys:\\n    neigh = node_dict[k]\\n    for n in neigh:\\n        # TODO: Send point as SE2\\n        occupied = overlap(k,n)\\n        occupancy_grid[(k,n)] = occupied\\n        print('occupied',k,n,occpied)\\n\""
      ]
     },
     "execution_count": 24,
     "metadata": {},
     "output_type": "execute_result"
    }
   ],
   "source": [
    "## Trying to extract all nodes in one direction\n",
    "import numpy as np\n",
    "from shapely.geometry import Polygon\n",
    "import geometry as geo\n",
    "\n",
    "## TODO: Experiment with these values\n",
    "# duckie_length \n",
    "dl = 5.0\n",
    "# duckie_width \n",
    "dw = 2.5\n",
    "\n",
    "# Takes in 2 SE2 node objects, returns 1 if duckiebots\n",
    "# at those locations simultaneously will cause a collision\n",
    "# else returns 0\n",
    "def overlap(n1, n2):\n",
    "    p1, theta1 = geo.translation_angle_from_SE2(n1)\n",
    "    p2, theta2 = geo.translation_angle_from_SE2(n2)\n",
    "    poly1 = Polygon([((p1[0]+dw/2.0),(p1[1]+dl/2.0)), \n",
    "                     ((p1[0]-dw/2.0),(p1[1]+dl/2.0)), \n",
    "                     ((p1[0]-dw/2.0),(p1[1]-dl/2.0)),\n",
    "                     ((p1[0]+dw/2.0),(p1[1]-dl/2.0))])\n",
    "    poly2 = Polygon([((p2[0]+dw/2.0),(p2[1]+dl/2.0)), \n",
    "                     ((p2[0]-dw/2.0),(p2[1]+dl/2.0)), \n",
    "                     ((p2[0]-dw/2.0),(p2[1]-dl/2.0)),\n",
    "                     ((p2[0]+dw/2.0),(p2[1]-dl/2.0))])\n",
    "    return(1 if poly1.intersects(poly2) else 0) \n",
    "    \n",
    "        \n",
    "# Takes in empty array and populates with collision matrix values\n",
    "def occupancyGrid(occupancy_grid):\n",
    "    for ni,i in enumerate(sk.G):\n",
    "        curr = sk.G.nodes[i]['point'].as_SE2()\n",
    "        for nj,j in enumerate(sk.G):\n",
    "            q = sk.G.nodes[j]['point'].as_SE2()\n",
    "            #t,a = geo.translation_angle_from_SE2(q)\n",
    "            occupied = overlap(curr,q)\n",
    "            occupancy_grid[ni][nj] = occupied\n",
    "    return occupancy_grid\n",
    "\n",
    "# Iterate over all nodes and naively assigns them numerical values \n",
    "# corresponsing to their String names.\n",
    "# Takes in list of nodes, Returns dict{'str': int} ex. dict{'P0': 0}\n",
    "## TODO: This needs to be done only once!\n",
    "def enumerateNodes(keys):\n",
    "    node_labels = dict()\n",
    "    for i, k in enumerate(keys):\n",
    "        node_labels[k] = i\n",
    "    return node_labels   \n",
    "\n",
    "keys = list(sk.G.nodes())\n",
    "\n",
    "# TODO: Instead have a dict {(P0,P1): bool}\n",
    "occupancy_grid = np.zeros(shape=(len(keys),len(keys)))\n",
    "occupancy_grid = occupancyGrid(occupancy_grid)\n",
    "\n",
    "numerical_nodes = enumerateNodes(list(sk.G.nodes()))\n",
    "\n",
    "# print occupancy_grid[1]\n",
    "# print numerical_nodes\n",
    "\n",
    "\n",
    "# Takes in a list of nodes (with numerical labels) and updates an \n",
    "# obstacle/occupied vector with a provided nodes \"occupied' i.e. value=1\n",
    "def spawnDuckiesNum(blockNode, total_nodes):\n",
    "    node_num = np.zeros(shape=(1, total_nodes))\n",
    "    for n in blockNode:\n",
    "        node_num[n] = 1\n",
    "    return node_num\n",
    "\n",
    "# Takes in a list of nodes (with string labels) and updates \n",
    "# an obstacle/occupied vector with a provided nodes \"occupied' i.e. value=1\n",
    "def spawnDuckiesStr(blockNode, total_nodes):\n",
    "    node_num = np.zeros(shape=(1, total_nodes))\n",
    "    for n in blockNode:\n",
    "        node_num[numerical_nodes[n]] = 1\n",
    "    return node_num\n",
    "\n",
    "\"\"\"\n",
    "# Node diction: {node_name: [list of node neighbours]}\n",
    "# Iterate over all nodes and find all potential neighbours\n",
    "node_dict = dict()\n",
    "for n1, n2 in sk.G.edges():\n",
    "    data = sk.G.get_edge_data(n1, n2)\n",
    "    one_lane = data[0]['lane']\n",
    "    if n1 in list(node_dict.keys()):\n",
    "        node_dict[n1].append(n2)\n",
    "    else:\n",
    "        node_dict[n1] = [n2]\n",
    "\n",
    "#node list\n",
    "keys = list(node_dict.keys())\n",
    "\n",
    "for k in keys:\n",
    "    neigh = node_dict[k]\n",
    "    for n in neigh:\n",
    "        # TODO: Send point as SE2\n",
    "        occupied = overlap(k,n)\n",
    "        occupancy_grid[(k,n)] = occupied\n",
    "        print('occupied',k,n,occpied)\n",
    "\"\"\""
   ]
  },
  {
   "cell_type": "markdown",
   "metadata": {},
   "source": [
    "Let's bring in the `draw_graph` function from some time ago."
   ]
  },
  {
   "cell_type": "code",
   "execution_count": null,
   "metadata": {},
   "outputs": [],
   "source": [
    "def draw_graph(G0, pos=None):\n",
    "    import networkx as nx\n",
    "    from matplotlib import pyplot as plt\n",
    "    pos = pos or nx.spring_layout(G0)    \n",
    "    plt.figure(figsize=(12, 12))    \n",
    "    nx.draw(G0,pos,labels={node:node for node in G0.nodes()})\n",
    "    def edge_label(a, b):\n",
    "        datas = G0.get_edge_data(a, b)\n",
    "        s = '%d edge%s' % (len(datas), 's' if len(datas)>=2 else '')\n",
    "        for k, v in datas.items():\n",
    "            if v:\n",
    "                if 'label' in v:\n",
    "                    s += '\\n %s' % v['label']\n",
    "                else:\n",
    "                    s += '\\n %s' %v\n",
    "        return s\n",
    "    #edge_labels = dict([ ((a,b), edge_label(a,b)) for a,b in G0.edges()])\n",
    "    edge_labels = {}\n",
    "    nx.draw_networkx_edge_labels(G0,pos,edge_labels=edge_labels,font_color='red')\n",
    "    plt.axis('off')\n",
    "    plt.show()"
   ]
  },
  {
   "cell_type": "markdown",
   "metadata": {},
   "source": [
    "Set the position of each node in the graph based on the attribute 'point'."
   ]
  },
  {
   "cell_type": "code",
   "execution_count": null,
   "metadata": {},
   "outputs": [],
   "source": [
    "import geometry as geo\n",
    "pos = {}\n",
    "for n in sk.G:\n",
    "    q = sk.G.nodes[n]['point'].as_SE2()\n",
    "    t, _ = geo.translation_angle_from_SE2(q)\n",
    "    pos[n] = t\n",
    "draw_graph(sk.G, pos=pos)"
   ]
  },
  {
   "cell_type": "markdown",
   "metadata": {},
   "source": [
    "## Planning example\n",
    "\n",
    "Here is an example of how to do planning on the road network.\n",
    "\n",
    "We select a start and end node:"
   ]
  },
  {
   "cell_type": "code",
   "execution_count": null,
   "metadata": {},
   "outputs": [],
   "source": [
    "start = 'P60'\n",
    "end = 'P36'"
   ]
  },
  {
   "cell_type": "markdown",
   "metadata": {},
   "source": [
    "We find the shortest path:"
   ]
  },
  {
   "cell_type": "code",
   "execution_count": null,
   "metadata": {},
   "outputs": [],
   "source": [
    "import networkx as nx\n",
    "path = nx.shortest_path(sk.G, start, end)\n",
    "print(path)"
   ]
  },
  {
   "cell_type": "markdown",
   "metadata": {},
   "source": [
    "We retrieve the edge names:"
   ]
  },
  {
   "cell_type": "code",
   "execution_count": null,
   "metadata": {},
   "outputs": [],
   "source": [
    "def get_lanes(path):\n",
    "    edges = zip(path[:-1], path[1:]) \n",
    "    lanes  = []\n",
    "    for a, b in edges:\n",
    "        lane = sk.G.get_edge_data(a, b)[0]['lane']\n",
    "        print ('a, b', a,b)\n",
    "        print(sk.G.get_edge_data(a, b))\n",
    "        lanes.append(lane)\n",
    "    return lanes"
   ]
  },
  {
   "cell_type": "code",
   "execution_count": null,
   "metadata": {},
   "outputs": [],
   "source": [
    "lanes = get_lanes(path);\n",
    "print(lanes)"
   ]
  },
  {
   "cell_type": "markdown",
   "metadata": {},
   "source": [
    "For visualization, we create a new map containing only the lanes selected: "
   ]
  },
  {
   "cell_type": "code",
   "execution_count": null,
   "metadata": {},
   "outputs": [],
   "source": [
    "po = dw.PlacedObject()\n",
    "for lane_name in lanes:\n",
    "    lane = sk.root2.children[lane_name]\n",
    "    po.set_object(lane_name, lane, ground_truth=dw.SE2Transform.identity())"
   ]
  },
  {
   "cell_type": "code",
   "execution_count": null,
   "metadata": {},
   "outputs": [],
   "source": [
    "ipython_draw_html(po);"
   ]
  }
 ],
 "metadata": {
  "kernelspec": {
   "display_name": "Python 2",
   "language": "python",
   "name": "python2"
  },
  "language_info": {
   "codemirror_mode": {
    "name": "ipython",
    "version": 2
   },
   "file_extension": ".py",
   "mimetype": "text/x-python",
   "name": "python",
   "nbconvert_exporter": "python",
   "pygments_lexer": "ipython2",
   "version": "2.7.12"
  }
 },
 "nbformat": 4,
 "nbformat_minor": 2
}
