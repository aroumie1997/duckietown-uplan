{
 "cells": [
  {
   "cell_type": "markdown",
   "metadata": {},
   "source": [
    "# Loading Map"
   ]
  },
  {
   "cell_type": "code",
   "execution_count": 1,
   "metadata": {},
   "outputs": [],
   "source": [
    "import contracts\n",
    "contracts.disable_all()"
   ]
  },
  {
   "cell_type": "code",
   "execution_count": 2,
   "metadata": {},
   "outputs": [
    {
     "name": "stderr",
     "output_type": "stream",
     "text": [
      "INFO:dt-world:duckietown-world 1.0.15\n",
      "DEBUG:dt-serialization:Registering class Serializable\n",
      "DEBUG:dt-serialization:Registering class Serializable\n",
      "DEBUG:dt-serialization:Registering class GenericData\n",
      "DEBUG:dt-serialization:Registering class Sequence\n",
      "DEBUG:dt-serialization:Registering class SampledSequence\n",
      "DEBUG:dt-serialization:Registering class Constant\n",
      "DEBUG:dt-serialization:Registering class RectangularArea\n",
      "DEBUG:dt-serialization:Registering class TransformSequence\n",
      "DEBUG:dt-serialization:Registering class VariableTransformSequence\n",
      "DEBUG:dt-serialization:Registering class SE2Transform\n",
      "DEBUG:dt-serialization:Registering class Scale2D\n",
      "DEBUG:dt-serialization:Registering class Matrix2D\n",
      "DEBUG:dt-serialization:Registering class SpatialRelation\n",
      "DEBUG:dt-serialization:Registering class GroundTruth\n",
      "DEBUG:dt-serialization:Registering class PlacedObject\n",
      "DEBUG:dt-serialization:Registering class EvaluatedMetric\n",
      "DEBUG:dt-serialization:Registering class GenericObject\n",
      "DEBUG:dt-serialization:Registering class Duckie\n",
      "DEBUG:dt-serialization:Registering class Decoration\n",
      "DEBUG:dt-serialization:Registering class Tree\n",
      "DEBUG:dt-serialization:Registering class Vehicle\n",
      "DEBUG:dt-serialization:Registering class Cone\n",
      "DEBUG:dt-serialization:Registering class Bus\n",
      "DEBUG:dt-serialization:Registering class Truck\n",
      "DEBUG:dt-serialization:Registering class House\n",
      "DEBUG:dt-serialization:Registering class Barrier\n",
      "DEBUG:dt-serialization:Registering class Building\n",
      "DEBUG:dt-serialization:Registering class Sign\n",
      "DEBUG:dt-serialization:Registering class SignStop\n",
      "DEBUG:dt-serialization:Registering class SignLeftTIntersect\n",
      "DEBUG:dt-serialization:Registering class SignRightTIntersect\n",
      "DEBUG:dt-serialization:Registering class SignTIntersect\n",
      "DEBUG:dt-serialization:Registering class Sign4WayIntersect\n",
      "DEBUG:dt-serialization:Registering class SignTLightAhead\n",
      "DEBUG:dt-serialization:Registering class SignOneWayRight\n",
      "DEBUG:dt-serialization:Registering class SignOneWayLeft\n",
      "DEBUG:dt-serialization:Registering class SignDuckCrossing\n",
      "DEBUG:dt-serialization:Registering class SignYield\n",
      "DEBUG:dt-serialization:Registering class SignNoLeftTurn\n",
      "DEBUG:dt-serialization:Registering class SignNoRightTurn\n",
      "DEBUG:dt-serialization:Registering class SignDoNotEnter\n",
      "DEBUG:dt-serialization:Registering class SignParking\n",
      "DEBUG:dt-serialization:Registering class SignPedestrian\n",
      "DEBUG:dt-serialization:Registering class SignSlot\n",
      "DEBUG:dt-serialization:Registering class Tile\n",
      "DEBUG:dt-serialization:Registering class Anchor\n",
      "DEBUG:dt-serialization:Registering class TileCoords\n",
      "DEBUG:dt-serialization:Registering class TileRelativeTransform\n",
      "DEBUG:dt-serialization:Registering class TileMap\n",
      "DEBUG:dt-serialization:Registering class TrafficLight\n",
      "DEBUG:dt-serialization:Registering class Duckiebot\n",
      "DEBUG:dt-serialization:Registering class DB18\n",
      "DEBUG:dt-serialization:Registering class DuckietownMap\n",
      "DEBUG:dt-serialization:Registering class TagInstance\n",
      "DEBUG:dt-serialization:Registering class FloorTag\n",
      "DEBUG:dt-serialization:Registering class Integrator2D\n",
      "DEBUG:dt-serialization:Registering class GenericKinematicsSE2\n",
      "DEBUG:dt-serialization:Registering class LanePose\n",
      "DEBUG:dt-serialization:Registering class LaneSegment\n"
     ]
    }
   ],
   "source": [
    "from duckietown_world.utils import memoized_reset, SE2_interpolate, SE2_apply_R2"
   ]
  },
  {
   "cell_type": "code",
   "execution_count": 3,
   "metadata": {},
   "outputs": [],
   "source": [
    "import duckietown_world as dw\n",
    "import numpy as np\n",
    "from duckietown_world.svg_drawing.ipython_utils import ipython_draw_html"
   ]
  },
  {
   "cell_type": "code",
   "execution_count": 4,
   "metadata": {},
   "outputs": [],
   "source": [
    "dw.logger.setLevel(50)"
   ]
  },
  {
   "cell_type": "code",
   "execution_count": 5,
   "metadata": {},
   "outputs": [
    {
     "data": {
      "text/html": [
       "<style>\n",
       "pre {line-height: 90%}\n",
       "</style>"
      ],
      "text/plain": [
       "<IPython.core.display.HTML object>"
      ]
     },
     "metadata": {},
     "output_type": "display_data"
    }
   ],
   "source": [
    "%%html\n",
    "<style>\n",
    "pre {line-height: 90%}\n",
    "</style>"
   ]
  },
  {
   "cell_type": "code",
   "execution_count": 6,
   "metadata": {},
   "outputs": [
    {
     "data": {
      "text/html": [
       "\n",
       "        <iframe\n",
       "            width=\"100%\"\n",
       "            height=\"600\"\n",
       "            src=\"out/ipython_draw_html/4386883280/drawing.html\"\n",
       "            frameborder=\"0\"\n",
       "            allowfullscreen\n",
       "        ></iframe>\n",
       "        "
      ],
      "text/plain": [
       "<IPython.lib.display.IFrame at 0xa171bb210>"
      ]
     },
     "metadata": {},
     "output_type": "display_data"
    }
   ],
   "source": [
    "m = dw.load_map('4way')\n",
    "ipython_draw_html(m);"
   ]
  },
  {
   "cell_type": "code",
   "execution_count": 7,
   "metadata": {},
   "outputs": [
    {
     "data": {
      "text/plain": [
       "{'tile-0-0': Tile(kind=curve_left,drivable=True),\n",
       " 'tile-0-1': Tile(kind=straight,drivable=True),\n",
       " 'tile-0-2': Tile(kind=3way_left,drivable=True),\n",
       " 'tile-0-3': Tile(kind=straight,drivable=True),\n",
       " 'tile-0-4': Tile(kind=curve_left,drivable=True),\n",
       " 'tile-1-0': Tile(kind=straight,drivable=True),\n",
       " 'tile-1-1': Tile(kind=asphalt,drivable=False),\n",
       " 'tile-1-2': Tile(kind=straight,drivable=True),\n",
       " 'tile-1-3': Tile(kind=asphalt,drivable=False),\n",
       " 'tile-1-4': Tile(kind=straight,drivable=True),\n",
       " 'tile-2-0': Tile(kind=3way_left,drivable=True),\n",
       " 'tile-2-1': Tile(kind=straight,drivable=True),\n",
       " 'tile-2-2': Tile(kind=4way,drivable=True),\n",
       " 'tile-2-3': Tile(kind=straight,drivable=True),\n",
       " 'tile-2-4': Tile(kind=3way_left,drivable=True),\n",
       " 'tile-3-0': Tile(kind=straight,drivable=True),\n",
       " 'tile-3-1': Tile(kind=asphalt,drivable=False),\n",
       " 'tile-3-2': Tile(kind=straight,drivable=True),\n",
       " 'tile-3-3': Tile(kind=asphalt,drivable=False),\n",
       " 'tile-3-4': Tile(kind=straight,drivable=True),\n",
       " 'tile-4-0': Tile(kind=curve_left,drivable=True),\n",
       " 'tile-4-1': Tile(kind=straight,drivable=True),\n",
       " 'tile-4-2': Tile(kind=3way_left,drivable=True),\n",
       " 'tile-4-3': Tile(kind=straight,drivable=True),\n",
       " 'tile-4-4': Tile(kind=curve_left,drivable=True)}"
      ]
     },
     "execution_count": 7,
     "metadata": {},
     "output_type": "execute_result"
    }
   ],
   "source": [
    "m.children['tilemap'].children"
   ]
  },
  {
   "cell_type": "markdown",
   "metadata": {},
   "source": [
    "# Loading Tile"
   ]
  },
  {
   "cell_type": "code",
   "execution_count": 8,
   "metadata": {},
   "outputs": [
    {
     "name": "stdout",
     "output_type": "stream",
     "text": [
      "Tile\n",
      "\n",
      "└ curve_left ┐ PlacedObject\n",
      "             │ \n",
      "             │ └ curve ┐ PlacedObject\n",
      "             │         │\n",
      "             │         │ ├ lane2 ┐ LaneSegment\n",
      "             │         │ │       └──────────────\n",
      "             │         │ └ lane1 ┐ LaneSegment\n",
      "             │         │         └──────────────\n",
      "             │         └──────────────────────────\n",
      "             └──────────────────────────────────────\n"
     ]
    }
   ],
   "source": [
    "tile = m.children['tilemap'].children['tile-0-0']\n",
    "print(dw.get_object_tree(tile, attributes=False, levels=10))"
   ]
  },
  {
   "cell_type": "code",
   "execution_count": 9,
   "metadata": {
    "scrolled": true
   },
   "outputs": [
    {
     "data": {
      "text/html": [
       "\n",
       "        <iframe\n",
       "            width=\"100%\"\n",
       "            height=\"600\"\n",
       "            src=\"out/ipython_draw_html/43337123600/drawing.html\"\n",
       "            frameborder=\"0\"\n",
       "            allowfullscreen\n",
       "        ></iframe>\n",
       "        "
      ],
      "text/plain": [
       "<IPython.lib.display.IFrame at 0x1054d5650>"
      ]
     },
     "metadata": {},
     "output_type": "display_data"
    }
   ],
   "source": [
    "# number of lanes and segmentation size\n",
    "lane = tile['curve_left/curve/lane2']._copy()\n",
    "ipython_draw_html(lane);\n",
    "\n",
    "#print(lane.control_points)\n"
   ]
  },
  {
   "cell_type": "markdown",
   "metadata": {},
   "source": [
    "# Adding More Control Points"
   ]
  },
  {
   "cell_type": "code",
   "execution_count": 10,
   "metadata": {},
   "outputs": [],
   "source": [
    "from duckietown_world.utils import memoized_reset, SE2_interpolate, SE2_apply_R2\n",
    "from duckietown_world.geo import SE2Transform, PlacedObject\n",
    "import numpy as np\n",
    "import geometry as geo\n",
    "import copy\n",
    "\n",
    "def middle_control_point(lane_segment_copy, beta, n_sublanes=1):\n",
    "    n = len(lane_segment_copy.control_points)\n",
    "    i = int(np.floor(beta))\n",
    "    cp_new = []\n",
    "    if i < 0:\n",
    "        q0 = lane_segment_copy.control_points[0].asmatrix2d().m\n",
    "        q1 = geo.SE2.multiply(q0, geo.SE2_from_translation_angle([0.1, 0], 0))\n",
    "        alpha = beta\n",
    "\n",
    "    elif i >= n - 1:\n",
    "        # q0 = self.control_points[-2].asmatrix2d().m\n",
    "        q0 = lane_segment_copy.control_points[-1].asmatrix2d().m\n",
    "        q1 = geo.SE2.multiply(q0, geo.SE2_from_translation_angle([0.1, 0], 0))\n",
    "        alpha = beta - (n - 1)\n",
    "    else:\n",
    "        alpha = beta - i\n",
    "        q0 = lane_segment_copy.control_points[i].asmatrix2d().m\n",
    "        q1 = lane_segment_copy.control_points[i + 1].asmatrix2d().m\n",
    "        \n",
    "    q = SE2_interpolate(q0, q1, alpha)\n",
    "    p, theta = geo.translation_angle_from_SE2(q)\n",
    "    cp_new.append(SE2Transform(p, theta))  \n",
    "    \n",
    "    width = lane_segment_copy.width / 2\n",
    "\n",
    "    for i in list(reversed(range(n_sublanes + 1)[1:])):\n",
    "        w = i * width / n_sublanes\n",
    "        \n",
    "        q_right = geo.SE2.multiply(q, geo.SE2_from_translation_angle([0, w], 0))\n",
    "        p, theta = geo.translation_angle_from_SE2(q_right)\n",
    "        cp_new.append(SE2Transform(p, theta))\n",
    "        \n",
    "        q_left = geo.SE2.multiply(q, geo.SE2_from_translation_angle([0, -w], 0))\n",
    "        p, theta = geo.translation_angle_from_SE2(q_left)\n",
    "        cp_new.append(SE2Transform(p, theta))\n",
    "        \n",
    "    return cp_new\n",
    "\n",
    "def add_control_points(lane_segment_copy, points_per_segment=5):\n",
    "    lane_copy = copy.deepcopy(lane_segment_copy)\n",
    "    n = len(lane_copy.control_points) - 1\n",
    "    num = n * points_per_segment\n",
    "    betas = np.linspace(0, n, num=num)\n",
    "    res = []\n",
    "    for beta in betas:\n",
    "        cp_new = middle_control_point(lane_copy, beta)\n",
    "        res += cp_new\n",
    "    lane_copy.control_points = res\n",
    "    return lane_copy\n",
    "\n",
    "def get_more_points(lane_segment_copy, points_per_segment=5, n_sublanes=3):\n",
    "\n",
    "\n",
    "    points_left_right = []\n",
    "\n",
    "    n = len(lane_segment_copy.control_points) - 1\n",
    "    num = n * points_per_segment\n",
    "    betas = np.linspace(0, n, num=num)\n",
    "    width = self.width / 2\n",
    "\n",
    "    for i in list(reversed(range(n_sublanes + 1))):  # range(n_sublanes + 1)[1:] if without the center-lane\n",
    "\n",
    "        points_left = []\n",
    "        points_right = []\n",
    "        w = i * width / n_sublanes\n",
    "\n",
    "        for beta in betas:\n",
    "\n",
    "            q = lane_segment_copy.center_point(beta)\n",
    "            delta_left = np.array([0, w])\n",
    "            delta_right = np.array([0, -w])\n",
    "            points_left.append(SE2_apply_R2(q, delta_left))\n",
    "            points_right.append(SE2_apply_R2(q, delta_right))\n",
    "\n",
    "        # points_left_right.append(points_right)\n",
    "        # points_left_right.append(reversed(points_left))\n",
    "\n",
    "        points_left_right += points_right + list(reversed(points_left))\n",
    "\n",
    "\n",
    "    print(len(list(points_left_right)))\n",
    "\n",
    "    return points_left_right"
   ]
  },
  {
   "cell_type": "code",
   "execution_count": 11,
   "metadata": {},
   "outputs": [
    {
     "data": {
      "text/html": [
       "\n",
       "        <iframe\n",
       "            width=\"100%\"\n",
       "            height=\"600\"\n",
       "            src=\"out/ipython_draw_html/43337187280/drawing.html\"\n",
       "            frameborder=\"0\"\n",
       "            allowfullscreen\n",
       "        ></iframe>\n",
       "        "
      ],
      "text/plain": [
       "<IPython.lib.display.IFrame at 0xa171c2a10>"
      ]
     },
     "metadata": {},
     "output_type": "display_data"
    }
   ],
   "source": [
    "copy = add_control_points(lane)\n",
    "ipython_draw_html(copy);\n",
    "\n"
   ]
  },
  {
   "cell_type": "code",
   "execution_count": 12,
   "metadata": {},
   "outputs": [],
   "source": [
    "# lane.get_more_points()"
   ]
  },
  {
   "cell_type": "code",
   "execution_count": 13,
   "metadata": {},
   "outputs": [
    {
     "data": {
      "text/plain": [
       "[SE2Transform([-0.5, -0.22],0.0),\n",
       " SE2Transform([0.0, 0.0],0.785398163397),\n",
       " SE2Transform([0.22, 0.5],1.57079632679)]"
      ]
     },
     "execution_count": 13,
     "metadata": {},
     "output_type": "execute_result"
    }
   ],
   "source": [
    "lane.control_points"
   ]
  },
  {
   "cell_type": "code",
   "execution_count": 14,
   "metadata": {},
   "outputs": [],
   "source": [
    "from duckietown_world.utils import memoized_reset, SE2_interpolate, SE2_apply_R2\n",
    "from duckietown_world.geo import SE2Transform, PlacedObject\n",
    "import numpy as np\n",
    "import geometry as geo"
   ]
  },
  {
   "cell_type": "code",
   "execution_count": 15,
   "metadata": {},
   "outputs": [
    {
     "name": "stdout",
     "output_type": "stream",
     "text": [
      "[[ 0.70710677 -0.70710677 -0.5       ]\n",
      " [ 0.70710677  0.70710677 -0.22      ]\n",
      " [-0.         -0.          1.        ]]\n",
      "[[ 0.70710678 -0.70710678 -0.5       ]\n",
      " [ 0.70710678  0.70710678 -0.22      ]\n",
      " [-0.         -0.          1.        ]]\n",
      "[-0.5  -0.22]\n",
      "0.7853982\n"
     ]
    }
   ],
   "source": [
    "cp = SE2Transform([-0.5, -0.22], np.deg2rad(45))\n",
    "q = cp.asmatrix2d().m\n",
    "q2 = cp.as_SE2()\n",
    "SE2_apply_R2(q,np.array([0, 1]))\n",
    "print(q)\n",
    "print(q2)\n",
    "\n",
    "p, theta = geo.translation_angle_from_SE2(q)\n",
    "print(p)\n",
    "print(theta)"
   ]
  },
  {
   "cell_type": "code",
   "execution_count": 16,
   "metadata": {},
   "outputs": [
    {
     "name": "stdout",
     "output_type": "stream",
     "text": [
      "0.785398163397\n"
     ]
    }
   ],
   "source": [
    "a = cp.theta\n",
    "print(a)"
   ]
  },
  {
   "cell_type": "code",
   "execution_count": 17,
   "metadata": {},
   "outputs": [
    {
     "name": "stdout",
     "output_type": "stream",
     "text": [
      "[0.         0.22222222 0.44444444 0.66666667 0.88888889 1.11111111\n",
      " 1.33333333 1.55555556 1.77777778 2.        ]\n"
     ]
    }
   ],
   "source": [
    "num_cp = 3\n",
    "points_per_segment=5; n_sublanes=3\n",
    "n = num_cp - 1\n",
    "num = n * points_per_segment\n",
    "betas = np.linspace(0, n, num=num)\n",
    "print(betas)"
   ]
  },
  {
   "cell_type": "code",
   "execution_count": null,
   "metadata": {},
   "outputs": [],
   "source": []
  }
 ],
 "metadata": {
  "kernelspec": {
   "display_name": "Python 2",
   "language": "python",
   "name": "python2"
  },
  "language_info": {
   "codemirror_mode": {
    "name": "ipython",
    "version": 2
   },
   "file_extension": ".py",
   "mimetype": "text/x-python",
   "name": "python",
   "nbconvert_exporter": "python",
   "pygments_lexer": "ipython2",
   "version": "2.7.15"
  }
 },
 "nbformat": 4,
 "nbformat_minor": 2
}
