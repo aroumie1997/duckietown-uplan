{
 "cells": [
  {
   "cell_type": "markdown",
   "metadata": {},
   "source": [
    "# Setup "
   ]
  },
  {
   "cell_type": "code",
   "execution_count": 1,
   "metadata": {},
   "outputs": [
    {
     "name": "stderr",
     "output_type": "stream",
     "text": [
      "INFO:dt-world:duckietown-world 1.0.15\n",
      "DEBUG:dt-serialization:Registering class Serializable\n",
      "DEBUG:dt-serialization:Registering class Serializable\n",
      "DEBUG:dt-serialization:Registering class GenericData\n",
      "DEBUG:dt-serialization:Registering class Sequence\n",
      "DEBUG:dt-serialization:Registering class SampledSequence\n",
      "DEBUG:dt-serialization:Registering class Constant\n",
      "DEBUG:dt-serialization:Registering class RectangularArea\n",
      "DEBUG:dt-serialization:Registering class TransformSequence\n",
      "DEBUG:dt-serialization:Registering class VariableTransformSequence\n",
      "DEBUG:dt-serialization:Registering class SE2Transform\n",
      "DEBUG:dt-serialization:Registering class Scale2D\n",
      "DEBUG:dt-serialization:Registering class Matrix2D\n",
      "DEBUG:dt-serialization:Registering class SpatialRelation\n",
      "DEBUG:dt-serialization:Registering class GroundTruth\n",
      "DEBUG:dt-serialization:Registering class PlacedObject\n",
      "DEBUG:dt-serialization:Registering class EvaluatedMetric\n",
      "DEBUG:dt-serialization:Registering class GenericObject\n",
      "DEBUG:dt-serialization:Registering class Duckie\n",
      "DEBUG:dt-serialization:Registering class Decoration\n",
      "DEBUG:dt-serialization:Registering class Tree\n",
      "DEBUG:dt-serialization:Registering class Vehicle\n",
      "DEBUG:dt-serialization:Registering class Cone\n",
      "DEBUG:dt-serialization:Registering class Bus\n",
      "DEBUG:dt-serialization:Registering class Truck\n",
      "DEBUG:dt-serialization:Registering class House\n",
      "DEBUG:dt-serialization:Registering class Barrier\n",
      "DEBUG:dt-serialization:Registering class Building\n",
      "DEBUG:dt-serialization:Registering class Sign\n",
      "DEBUG:dt-serialization:Registering class SignStop\n",
      "DEBUG:dt-serialization:Registering class SignLeftTIntersect\n",
      "DEBUG:dt-serialization:Registering class SignRightTIntersect\n",
      "DEBUG:dt-serialization:Registering class SignTIntersect\n",
      "DEBUG:dt-serialization:Registering class Sign4WayIntersect\n",
      "DEBUG:dt-serialization:Registering class SignTLightAhead\n",
      "DEBUG:dt-serialization:Registering class SignOneWayRight\n",
      "DEBUG:dt-serialization:Registering class SignOneWayLeft\n",
      "DEBUG:dt-serialization:Registering class SignDuckCrossing\n",
      "DEBUG:dt-serialization:Registering class SignYield\n",
      "DEBUG:dt-serialization:Registering class SignNoLeftTurn\n",
      "DEBUG:dt-serialization:Registering class SignNoRightTurn\n",
      "DEBUG:dt-serialization:Registering class SignDoNotEnter\n",
      "DEBUG:dt-serialization:Registering class SignParking\n",
      "DEBUG:dt-serialization:Registering class SignPedestrian\n",
      "DEBUG:dt-serialization:Registering class SignSlot\n",
      "DEBUG:dt-serialization:Registering class Tile\n",
      "DEBUG:dt-serialization:Registering class Anchor\n",
      "DEBUG:dt-serialization:Registering class TileCoords\n",
      "DEBUG:dt-serialization:Registering class TileRelativeTransform\n",
      "DEBUG:dt-serialization:Registering class TileMap\n",
      "DEBUG:dt-serialization:Registering class TrafficLight\n",
      "DEBUG:dt-serialization:Registering class Duckiebot\n",
      "DEBUG:dt-serialization:Registering class DB18\n",
      "DEBUG:dt-serialization:Registering class DuckietownMap\n",
      "DEBUG:dt-serialization:Registering class TagInstance\n",
      "DEBUG:dt-serialization:Registering class FloorTag\n",
      "DEBUG:dt-serialization:Registering class Integrator2D\n",
      "DEBUG:dt-serialization:Registering class GenericKinematicsSE2\n",
      "DEBUG:dt-serialization:Registering class LanePose\n",
      "DEBUG:dt-serialization:Registering class LaneSegment\n"
     ]
    }
   ],
   "source": [
    "import contracts\n",
    "contracts.disable_all()\n",
    "\n",
    "import duckietown_world as dw\n",
    "from duckietown_world.svg_drawing.ipython_utils import ipython_draw_svg, ipython_draw_html\n",
    "\n",
    "import numpy as np\n",
    "import geometry as geo\n",
    "\n",
    "\n",
    "\n",
    "dw.logger.setLevel(50)"
   ]
  },
  {
   "cell_type": "code",
   "execution_count": 2,
   "metadata": {},
   "outputs": [
    {
     "data": {
      "text/html": [
       "<style>\n",
       "pre {line-height: 90%}\n",
       "</style>"
      ],
      "text/plain": [
       "<IPython.core.display.HTML object>"
      ]
     },
     "metadata": {},
     "output_type": "display_data"
    }
   ],
   "source": [
    "%%html\n",
    "<style>\n",
    "pre {line-height: 90%}\n",
    "</style>"
   ]
  },
  {
   "cell_type": "markdown",
   "metadata": {},
   "source": [
    "# Lane segments in field of view"
   ]
  },
  {
   "cell_type": "markdown",
   "metadata": {},
   "source": [
    "Need:\n",
    "    \n",
    "    1. Function that creates field of view polygon (triangle or trapezoid) defined by corner points\n",
    "    \n",
    "    2. Function that checks if point is in polygon\n",
    "    \n",
    "    3. Function that checks if edge (lane segment) is in polygon by checking for both control points (nodes)\n"
   ]
  },
  {
   "cell_type": "markdown",
   "metadata": {},
   "source": [
    "### 1"
   ]
  },
  {
   "cell_type": "markdown",
   "metadata": {},
   "source": [
    "Function that creates field of view polygon (triangle or trapezoid) defined by corner points"
   ]
  },
  {
   "cell_type": "code",
   "execution_count": 3,
   "metadata": {},
   "outputs": [
    {
     "name": "stderr",
     "output_type": "stream",
     "text": [
      "DEBUG:dt-serialization:Registering class FOV\n"
     ]
    }
   ],
   "source": [
    "class FOV(dw.PlacedObject):\n",
    "    import numpy as np\n",
    "    \n",
    "    def __init__(self, angle = np.deg2rad(100), height = 1.0, duckie_length = 0.15, duckie_width = 0.15, *args, **kwargs):\n",
    "        self.angle = angle\n",
    "        self.height = height\n",
    "        self.points =  [(duckie_length/2.0, -duckie_width/2.0),\n",
    "                        ( (duckie_length/2.0  + self.height),\n",
    "                         -(duckie_width/2.0 + self.height*np.tan(self.angle/2.0)) ),\n",
    "                        ( (duckie_length/2.0  + self.height),\n",
    "                          (duckie_width/2.0 + self.height*np.tan(self.angle/2.0)) ),\n",
    "                        (duckie_length/2.0, duckie_width/2.0)]   \n",
    "\n",
    "        dw.PlacedObject.__init__(self, *args, **kwargs)\n",
    "        \n",
    "    def draw_svg(self, drawing, g):\n",
    "        c = drawing.polygon(self.points, fill='yellow')\n",
    "        g.add(c)\n",
    "        # draws x,y axes\n",
    "        dw.draw_axes(drawing, g)\n",
    "\n",
    "    def extent_points(self):\n",
    "        # set of points describing the boundary \n",
    "        return self.points\n",
    "\n"
   ]
  },
  {
   "cell_type": "markdown",
   "metadata": {},
   "source": [
    "#### Example"
   ]
  },
  {
   "cell_type": "code",
   "execution_count": 4,
   "metadata": {},
   "outputs": [],
   "source": [
    "def interpolate(q0, q1, alpha):\n",
    "    v = geo.SE2.algebra_from_group(geo.SE2.multiply(geo.SE2.inverse(q0), q1))\n",
    "    vi = v * alpha\n",
    "    q = np.dot(q0, geo.SE2.group_from_algebra(vi))\n",
    "    return q"
   ]
  },
  {
   "cell_type": "code",
   "execution_count": 5,
   "metadata": {},
   "outputs": [],
   "source": [
    "q0 = geo.SE2_from_translation_angle([0, 0], 0)\n",
    "q1 = geo.SE2_from_translation_angle([2, -2], np.deg2rad(-90))\n",
    "\n",
    "# create a sequence of poses \n",
    "n = 10\n",
    "seqs = []\n",
    "steps = np.linspace(0, 1, num=n)\n",
    "for alpha in steps:\n",
    "    q = interpolate(q0, q1, alpha)\n",
    "    seqs.append(q)"
   ]
  },
  {
   "cell_type": "code",
   "execution_count": 6,
   "metadata": {},
   "outputs": [],
   "source": [
    "root = dw.PlacedObject()"
   ]
  },
  {
   "cell_type": "code",
   "execution_count": 7,
   "metadata": {},
   "outputs": [],
   "source": [
    "timestamps = range(len(seqs)) # [0, 1, 2, ...]\n",
    "\n",
    "# SE2Transform is the wrapper for SE2 used by Duckietown World \n",
    "transforms = [dw.SE2Transform.from_SE2(_) for _ in seqs]\n",
    "seq_fov = dw.SampledSequence(timestamps, transforms)# class used to represent time varying qtties "
   ]
  },
  {
   "cell_type": "code",
   "execution_count": 8,
   "metadata": {},
   "outputs": [],
   "source": [
    "root.set_object(\"FOV\", FOV(), ground_truth=seq_fov)\n",
    "root.set_object('db18-4', dw.DB18(), ground_truth=seq_fov)"
   ]
  },
  {
   "cell_type": "code",
   "execution_count": 9,
   "metadata": {},
   "outputs": [
    {
     "data": {
      "text/html": [
       "\n",
       "        <iframe\n",
       "            width=\"100%\"\n",
       "            height=\"600\"\n",
       "            src=\"out/ipython_draw_html/4683942480/drawing.html\"\n",
       "            frameborder=\"0\"\n",
       "            allowfullscreen\n",
       "        ></iframe>\n",
       "        "
      ],
      "text/plain": [
       "<IPython.lib.display.IFrame at 0x115f19d50>"
      ]
     },
     "metadata": {},
     "output_type": "display_data"
    }
   ],
   "source": [
    "area = dw.RectangularArea((-1, -3), (3, 1))\n",
    "\n",
    "ipython_draw_html(root, area=area);"
   ]
  },
  {
   "cell_type": "code",
   "execution_count": 10,
   "metadata": {},
   "outputs": [],
   "source": [
    "m = dw.load_map('robotarium1')\n",
    "\n",
    "sk = dw.get_skeleton_graph(m)\n",
    "\n",
    "map_root = sk.root2\n",
    "\n",
    "def draw_graph(G0, pos=None):\n",
    "    import networkx as nx\n",
    "    from matplotlib import pyplot as plt\n",
    "    pos = pos or nx.spring_layout(G0)\n",
    "    plt.figure(figsize=(12, 12))    \n",
    "    nx.draw(G0,pos,labels={node:node for node in G0.nodes()})\n",
    "    def edge_label(a, b):\n",
    "        datas = G0.get_edge_data(a, b)\n",
    "        s = '%d edge%s' % (len(datas), 's' if len(datas)>=2 else '')\n",
    "        for k, v in datas.items():\n",
    "            if v:\n",
    "                if 'label' in v:\n",
    "                    s += '\\n %s' % v['label']\n",
    "                else:\n",
    "                    s += '\\n %s' %v\n",
    "        return s\n",
    "    edge_labels = dict([ ((a,b), edge_label(a,b)) for a,b in G0.edges()])\n",
    "    nx.draw_networkx_edge_labels(G0,pos,edge_labels=edge_labels,font_color='red')\n",
    "    plt.axis('off')\n",
    "    plt.show()\n",
    "    \n",
    "    "
   ]
  },
  {
   "cell_type": "code",
   "execution_count": 11,
   "metadata": {},
   "outputs": [
    {
     "data": {
      "text/plain": [
       "<Figure size 1200x1200 with 1 Axes>"
      ]
     },
     "metadata": {},
     "output_type": "display_data"
    }
   ],
   "source": [
    "import geometry as geo\n",
    "pos = {}\n",
    "angles = {}\n",
    "for n in sk.G:\n",
    "    q = sk.G.nodes[n]['point'].as_SE2()\n",
    "    t, theta = geo.translation_angle_from_SE2(q)\n",
    "    pos[n] = t\n",
    "    angles[n] = theta\n",
    "draw_graph(sk.G, pos=pos)"
   ]
  },
  {
   "cell_type": "code",
   "execution_count": 12,
   "metadata": {},
   "outputs": [],
   "source": [
    "import networkx as nx\n",
    "\n",
    "start = 'P60'\n",
    "end = 'P39'\n",
    "\n",
    "path = nx.shortest_path(sk.G, start, end)\n",
    "\n",
    "n = 10\n",
    "seqs = []\n",
    "\n",
    "for i in range(len(path)-1):\n",
    "    q0 = sk.G.nodes[path[i]]['point'].as_SE2()\n",
    "    q1 = sk.G.nodes[path[i+1]]['point'].as_SE2()\n",
    "    steps = np.linspace(0, 1, num=n)\n",
    "    for alpha in steps:\n",
    "        q = interpolate(q0, q1, alpha)\n",
    "        seqs.append(q)"
   ]
  },
  {
   "cell_type": "code",
   "execution_count": 13,
   "metadata": {},
   "outputs": [],
   "source": [
    "timestamps = range(len(seqs)) # [0, 1, 2, ...]\n",
    "\n",
    "# SE2Transform is the wrapper for SE2 used by Duckietown World \n",
    "transforms = [dw.SE2Transform.from_SE2(_) for _ in seqs]\n",
    "seq_fov = dw.SampledSequence(timestamps, transforms)# class used to represent time varying qtties "
   ]
  },
  {
   "cell_type": "code",
   "execution_count": 14,
   "metadata": {
    "scrolled": true
   },
   "outputs": [
    {
     "data": {
      "text/html": [
       "\n",
       "        <iframe\n",
       "            width=\"100%\"\n",
       "            height=\"600\"\n",
       "            src=\"out/ipython_draw_html/43485540688/drawing.html\"\n",
       "            frameborder=\"0\"\n",
       "            allowfullscreen\n",
       "        ></iframe>\n",
       "        "
      ],
      "text/plain": [
       "<IPython.lib.display.IFrame at 0xa20910f90>"
      ]
     },
     "metadata": {},
     "output_type": "display_data"
    },
    {
     "data": {
      "text/html": [
       "\n",
       "        <iframe\n",
       "            width=\"100%\"\n",
       "            height=\"600\"\n",
       "            src=\"out/ipython_draw_html/43485540688/drawing.html\"\n",
       "            frameborder=\"0\"\n",
       "            allowfullscreen\n",
       "        ></iframe>\n",
       "        "
      ],
      "text/plain": [
       "<IPython.lib.display.IFrame at 0xa20910f90>"
      ]
     },
     "execution_count": 14,
     "metadata": {},
     "output_type": "execute_result"
    }
   ],
   "source": [
    "map_root.set_object(\"FOV\", FOV(), ground_truth=seq_fov)\n",
    "map_root.set_object('db18-4', dw.DB18(), ground_truth=seq_fov)\n",
    "ipython_draw_html(map_root)"
   ]
  },
  {
   "cell_type": "markdown",
   "metadata": {},
   "source": [
    "### 2"
   ]
  },
  {
   "cell_type": "markdown",
   "metadata": {},
   "source": [
    "Function that expresses FOV-polygon points in global frame"
   ]
  },
  {
   "cell_type": "code",
   "execution_count": 15,
   "metadata": {},
   "outputs": [],
   "source": [
    "def FOV2Global(FOV, q):\n",
    "    global_points = []\n",
    "    for point in FOV.points:\n",
    "        q_point = geo.SE2_from_translation_angle(point, 0.0)\n",
    "        global_point, _ = geo.translation_angle_from_SE2(geo.SE2.multiply(q,q_point))\n",
    "        global_points.append(global_point)\n",
    "        \n",
    "    return global_points        "
   ]
  },
  {
   "cell_type": "code",
   "execution_count": 16,
   "metadata": {},
   "outputs": [
    {
     "name": "stdout",
     "output_type": "stream",
     "text": [
      "[array([1.8437999 , 0.50999998]), array([ 0.65204631, -0.49000002]), array([ 3.18555349, -0.49000002]), array([1.9937999 , 0.50999998])]\n"
     ]
    }
   ],
   "source": [
    "poly_boundary = FOV2Global(FOV(), sk.G.nodes['P60']['point'].as_SE2())\n",
    "print(poly_boundary)"
   ]
  },
  {
   "cell_type": "markdown",
   "metadata": {},
   "source": [
    "Function that checks if point is inside polygon (based on tracing a horizontal line/ray through the point and checking for the intersection) "
   ]
  },
  {
   "cell_type": "code",
   "execution_count": 17,
   "metadata": {},
   "outputs": [],
   "source": [
    "def insidePoly(point,poly):\n",
    "    \n",
    "    x = point[0]\n",
    "    y = point[1]\n",
    "    n = len(poly)\n",
    "    inside = False\n",
    "\n",
    "    p1x,p1y = poly[0]\n",
    "    for i in range(n+1):\n",
    "        p2x,p2y = poly[i % n]\n",
    "        if y > min(p1y,p2y):\n",
    "            if y <= max(p1y,p2y):\n",
    "                if x <= max(p1x,p2x):\n",
    "                    if p1y != p2y:\n",
    "                        xints = (y-p1y)*(p2x-p1x)/(p2y-p1y)+p1x\n",
    "                    if p1x == p2x or x <= xints:\n",
    "                        inside = not inside\n",
    "        p1x,p1y = p2x,p2y\n",
    "\n",
    "    return inside"
   ]
  },
  {
   "cell_type": "code",
   "execution_count": 18,
   "metadata": {},
   "outputs": [
    {
     "data": {
      "text/plain": [
       "False"
      ]
     },
     "execution_count": 18,
     "metadata": {},
     "output_type": "execute_result"
    }
   ],
   "source": [
    "insidePoly (pos['P41'], poly_boundary)"
   ]
  },
  {
   "cell_type": "markdown",
   "metadata": {},
   "source": [
    "### 3"
   ]
  },
  {
   "cell_type": "markdown",
   "metadata": {},
   "source": [
    "Iterate over all edges and check which are visible"
   ]
  },
  {
   "cell_type": "code",
   "execution_count": 19,
   "metadata": {},
   "outputs": [],
   "source": [
    "def inFOV(G, poly):\n",
    "    \n",
    "    for node1, node2 in G.edges():\n",
    "        q1 = G.nodes[node1]['point'].as_SE2()\n",
    "        t1, _ = geo.translation_angle_from_SE2(q1)\n",
    "        q2 = G.nodes[node1]['point'].as_SE2()\n",
    "        t2, _ = geo.translation_angle_from_SE2(q2)\n",
    "        inFOV1 = insidePoly(t1, poly)\n",
    "        inFOV2 = insidePoly(t2, poly)\n",
    "        \n",
    "        if inFOV1 and inFOV2:\n",
    "            G[node1][node2][0]['inFOV'] = True \n",
    "        else:\n",
    "            G[node1][node2][0]['inFOV'] = False"
   ]
  },
  {
   "cell_type": "code",
   "execution_count": 20,
   "metadata": {},
   "outputs": [],
   "source": [
    "inFOV(sk.G, poly_boundary)"
   ]
  },
  {
   "cell_type": "code",
   "execution_count": 21,
   "metadata": {},
   "outputs": [
    {
     "name": "stdout",
     "output_type": "stream",
     "text": [
      "[(0, {'lane': 'ls229', 'inFOV': False})]\n",
      "[(0, {'lane': 'ls111', 'inFOV': False})]\n",
      "[(0, {'lane': 'L111', 'inFOV': False})]\n",
      "[(0, {'lane': 'ls079', 'inFOV': False})]\n",
      "[(0, {'lane': 'ls234', 'inFOV': False})]\n",
      "[(0, {'lane': 'ls009', 'inFOV': False})]\n",
      "[(0, {'lane': 'ls122', 'inFOV': False})]\n",
      "[(0, {'lane': 'ls245', 'inFOV': False})]\n",
      "[(0, {'lane': 'ls270', 'inFOV': False})]\n",
      "[(0, {'lane': 'ls157', 'inFOV': False})]\n",
      "[(0, {'lane': 'ls134', 'inFOV': False})]\n",
      "[(0, {'lane': 'ls096', 'inFOV': False})]\n",
      "[(0, {'lane': 'ls050', 'inFOV': False})]\n",
      "[(0, {'lane': 'ls260', 'inFOV': False})]\n",
      "[(0, {'lane': 'ls064', 'inFOV': False})]\n",
      "[(0, {'lane': 'ls103', 'inFOV': False})]\n",
      "[(0, {'lane': 'ls062', 'inFOV': False})]\n",
      "[(0, {'lane': 'ls211', 'inFOV': False})]\n",
      "[(0, {'lane': 'ls204', 'inFOV': False})]\n",
      "[(0, {'lane': 'ls127', 'inFOV': False})]\n",
      "[(0, {'lane': 'L112', 'inFOV': False})]\n",
      "[(0, {'lane': 'ls135', 'inFOV': False})]\n",
      "[(0, {'lane': 'ls092', 'inFOV': False})]\n",
      "[(0, {'lane': 'ls106', 'inFOV': False})]\n",
      "[(0, {'lane': 'ls136', 'inFOV': False})]\n",
      "[(0, {'lane': 'ls177', 'inFOV': False})]\n",
      "[(0, {'lane': 'ls146', 'inFOV': False})]\n",
      "[(0, {'lane': 'ls272', 'inFOV': False})]\n",
      "[(0, {'lane': 'ls186', 'inFOV': False})]\n",
      "[(0, {'lane': 'L108', 'inFOV': False})]\n",
      "[(0, {'lane': 'L124', 'inFOV': False})]\n",
      "[(0, {'lane': 'ls020', 'inFOV': False})]\n",
      "[(0, {'lane': 'ls173', 'inFOV': False})]\n",
      "[(0, {'lane': 'ls123', 'inFOV': False})]\n",
      "[(0, {'lane': 'ls023', 'inFOV': False})]\n",
      "[(0, {'lane': 'ls057', 'inFOV': False})]\n",
      "[(0, {'lane': 'ls052', 'inFOV': False})]\n",
      "[(0, {'lane': 'L110', 'inFOV': False})]\n",
      "[(0, {'lane': 'L105', 'inFOV': False})]\n",
      "[(0, {'lane': 'ls161', 'inFOV': False})]\n",
      "[(0, {'lane': 'ls196', 'inFOV': False})]\n",
      "[(0, {'lane': 'ls164', 'inFOV': False})]\n",
      "[(0, {'lane': 'ls206', 'inFOV': False})]\n",
      "[(0, {'lane': 'L125', 'inFOV': False})]\n",
      "[(0, {'lane': 'L93', 'inFOV': False})]\n",
      "[(0, {'lane': 'ls163', 'inFOV': False})]\n",
      "[(0, {'lane': 'ls199', 'inFOV': False})]\n",
      "[(0, {'lane': 'ls182', 'inFOV': False})]\n",
      "[(0, {'lane': 'ls039', 'inFOV': False})]\n",
      "[(0, {'lane': 'ls104', 'inFOV': False})]\n",
      "[(0, {'lane': 'ls053', 'inFOV': False})]\n",
      "[(0, {'lane': 'ls207', 'inFOV': False})]\n",
      "[(0, {'lane': 'ls074', 'inFOV': False})]\n",
      "[(0, {'lane': 'ls030', 'inFOV': False})]\n",
      "[(0, {'lane': 'ls254', 'inFOV': False})]\n",
      "[(0, {'lane': 'ls183', 'inFOV': False})]\n",
      "[(0, {'lane': 'ls093', 'inFOV': False})]\n",
      "[(0, {'lane': 'ls046', 'inFOV': False})]\n",
      "[(0, {'lane': 'ls162', 'inFOV': False})]\n",
      "[(0, {'lane': 'L56', 'inFOV': False})]\n",
      "[(0, {'lane': 'ls145', 'inFOV': False})]\n",
      "[(0, {'lane': 'ls018', 'inFOV': False})]\n",
      "[(0, {'lane': 'L127', 'inFOV': False})]\n",
      "[(0, {'lane': 'ls067', 'inFOV': False})]\n",
      "[(0, {'lane': 'ls192', 'inFOV': False})]\n",
      "[(0, {'lane': 'ls222', 'inFOV': False})]\n",
      "[(0, {'lane': 'ls149', 'inFOV': False})]\n",
      "[(0, {'lane': 'ls017', 'inFOV': False})]\n",
      "[(0, {'lane': 'ls244', 'inFOV': False})]\n",
      "[(0, {'lane': 'ls257', 'inFOV': False})]\n",
      "[(0, {'lane': 'ls078', 'inFOV': True})]\n",
      "[(0, {'lane': 'ls166', 'inFOV': True})]\n",
      "[(0, {'lane': 'L20', 'inFOV': False})]\n",
      "[(0, {'lane': 'ls091', 'inFOV': False})]\n",
      "[(0, {'lane': 'ls153', 'inFOV': False})]\n",
      "[(0, {'lane': 'L121', 'inFOV': False})]\n",
      "[(0, {'lane': 'ls099', 'inFOV': False})]\n",
      "[(0, {'lane': 'ls160', 'inFOV': False})]\n",
      "[(0, {'lane': 'L36', 'inFOV': False})]\n",
      "[(0, {'lane': 'ls268', 'inFOV': False})]\n",
      "[(0, {'lane': 'ls130', 'inFOV': False})]\n",
      "[(0, {'lane': 'ls045', 'inFOV': False})]\n",
      "[(0, {'lane': 'L137', 'inFOV': False})]\n",
      "[(0, {'lane': 'L130', 'inFOV': False})]\n",
      "[(0, {'lane': 'L126', 'inFOV': False})]\n",
      "[(0, {'lane': 'ls124', 'inFOV': False})]\n",
      "[(0, {'lane': 'ls233', 'inFOV': False})]\n",
      "[(0, {'lane': 'ls033', 'inFOV': False})]\n",
      "[(0, {'lane': 'ls131', 'inFOV': False})]\n",
      "[(0, {'lane': 'L52', 'inFOV': False})]\n",
      "[(0, {'lane': 'L129', 'inFOV': False})]\n",
      "[(0, {'lane': 'ls165', 'inFOV': False})]\n",
      "[(0, {'lane': 'ls210', 'inFOV': False})]\n",
      "[(0, {'lane': 'L117', 'inFOV': False})]\n",
      "[(0, {'lane': 'L35', 'inFOV': False})]\n",
      "[(0, {'lane': 'L101', 'inFOV': False})]\n",
      "[(0, {'lane': 'ls043', 'inFOV': False})]\n",
      "[(0, {'lane': 'ls180', 'inFOV': False})]\n",
      "[(0, {'lane': 'L97', 'inFOV': False})]\n",
      "[(0, {'lane': 'L60', 'inFOV': False})]\n",
      "[(0, {'lane': 'L99', 'inFOV': False})]\n",
      "[(0, {'lane': 'ls170', 'inFOV': False})]\n",
      "[(0, {'lane': 'ls269', 'inFOV': False})]\n",
      "[(0, {'lane': 'ls141', 'inFOV': False})]\n",
      "[(0, {'lane': 'ls085', 'inFOV': False})]\n",
      "[(0, {'lane': 'ls024', 'inFOV': False})]\n",
      "[(0, {'lane': 'L58', 'inFOV': False})]\n",
      "[(0, {'lane': 'ls178', 'inFOV': False})]\n",
      "[(0, {'lane': 'ls118', 'inFOV': False})]\n",
      "[(0, {'lane': 'ls159', 'inFOV': False})]\n",
      "[(0, {'lane': 'L135', 'inFOV': False})]\n",
      "[(0, {'lane': 'ls110', 'inFOV': False})]\n",
      "[(0, {'lane': 'ls240', 'inFOV': False})]\n",
      "[(0, {'lane': 'ls061', 'inFOV': False})]\n",
      "[(0, {'lane': 'L128', 'inFOV': True})]\n",
      "[(0, {'lane': 'ls108', 'inFOV': False})]\n",
      "[(0, {'lane': 'ls195', 'inFOV': False})]\n",
      "[(0, {'lane': 'ls197', 'inFOV': False})]\n",
      "[(0, {'lane': 'ls169', 'inFOV': False})]\n",
      "[(0, {'lane': 'ls005', 'inFOV': False})]\n",
      "[(0, {'lane': 'L134', 'inFOV': False})]\n",
      "[(0, {'lane': 'L131', 'inFOV': False})]\n",
      "[(0, {'lane': 'ls075', 'inFOV': False})]\n",
      "[(0, {'lane': 'ls036', 'inFOV': False})]\n",
      "[(0, {'lane': 'ls038', 'inFOV': False})]\n",
      "[(0, {'lane': 'L123', 'inFOV': False})]\n",
      "[(0, {'lane': 'L88', 'inFOV': False})]\n",
      "[(0, {'lane': 'L113', 'inFOV': True})]\n",
      "[(0, {'lane': 'L57', 'inFOV': False})]\n",
      "[(0, {'lane': 'L82', 'inFOV': False})]\n",
      "[(0, {'lane': 'L132', 'inFOV': False})]\n",
      "[(0, {'lane': 'L37', 'inFOV': False})]\n",
      "[(0, {'lane': 'L136', 'inFOV': False})]\n",
      "[(0, {'lane': 'L91', 'inFOV': False})]\n",
      "[(0, {'lane': 'L98', 'inFOV': False})]\n",
      "[(0, {'lane': 'ls026', 'inFOV': False})]\n",
      "[(0, {'lane': 'ls232', 'inFOV': False})]\n",
      "[(0, {'lane': 'L133', 'inFOV': False})]\n"
     ]
    }
   ],
   "source": [
    "for node1, node2 in sk.G.edges():\n",
    "    edge_data = sk.G.get_edge_data(node1, node2).items()\n",
    "    print(edge_data)"
   ]
  },
  {
   "cell_type": "markdown",
   "metadata": {},
   "source": [
    "### 4"
   ]
  },
  {
   "cell_type": "markdown",
   "metadata": {},
   "source": [
    "New edge attributes: true probability and belief probability"
   ]
  },
  {
   "cell_type": "code",
   "execution_count": 29,
   "metadata": {},
   "outputs": [
    {
     "name": "stdout",
     "output_type": "stream",
     "text": [
      "[(0, {'P_true': 1, 'lane': 'ls229', 'inFOV': False})]\n",
      "[(0, {'P_true': 1, 'lane': 'ls111', 'inFOV': False})]\n",
      "[(0, {'P_true': 0, 'lane': 'L111', 'inFOV': False})]\n",
      "[(0, {'P_true': 1, 'lane': 'ls079', 'inFOV': False})]\n",
      "[(0, {'P_true': 1, 'lane': 'ls234', 'inFOV': False})]\n",
      "[(0, {'P_true': 1, 'lane': 'ls009', 'inFOV': False})]\n",
      "[(0, {'P_true': 0, 'lane': 'ls122', 'inFOV': False})]\n",
      "[(0, {'P_true': 0, 'lane': 'ls245', 'inFOV': False})]\n",
      "[(0, {'P_true': 1, 'lane': 'ls270', 'inFOV': False})]\n",
      "[(0, {'P_true': 1, 'lane': 'ls157', 'inFOV': False})]\n",
      "[(0, {'P_true': 1, 'lane': 'ls134', 'inFOV': False})]\n",
      "[(0, {'P_true': 0, 'lane': 'ls096', 'inFOV': False})]\n",
      "[(0, {'P_true': 0, 'lane': 'ls050', 'inFOV': False})]\n",
      "[(0, {'P_true': 1, 'lane': 'ls260', 'inFOV': False})]\n",
      "[(0, {'P_true': 1, 'lane': 'ls064', 'inFOV': False})]\n",
      "[(0, {'P_true': 1, 'lane': 'ls103', 'inFOV': False})]\n",
      "[(0, {'P_true': 0, 'lane': 'ls062', 'inFOV': False})]\n",
      "[(0, {'P_true': 0, 'lane': 'ls211', 'inFOV': False})]\n",
      "[(0, {'P_true': 0, 'lane': 'ls204', 'inFOV': False})]\n",
      "[(0, {'P_true': 1, 'lane': 'ls127', 'inFOV': False})]\n",
      "[(0, {'P_true': 0, 'lane': 'L112', 'inFOV': False})]\n",
      "[(0, {'P_true': 0, 'lane': 'ls135', 'inFOV': False})]\n",
      "[(0, {'P_true': 0, 'lane': 'ls092', 'inFOV': False})]\n",
      "[(0, {'P_true': 1, 'lane': 'ls106', 'inFOV': False})]\n",
      "[(0, {'P_true': 0, 'lane': 'ls136', 'inFOV': False})]\n",
      "[(0, {'P_true': 1, 'lane': 'ls177', 'inFOV': False})]\n",
      "[(0, {'P_true': 0, 'lane': 'ls146', 'inFOV': False})]\n",
      "[(0, {'P_true': 0, 'lane': 'ls272', 'inFOV': False})]\n",
      "[(0, {'P_true': 1, 'lane': 'ls186', 'inFOV': False})]\n",
      "[(0, {'P_true': 0, 'lane': 'L108', 'inFOV': False})]\n",
      "[(0, {'P_true': 1, 'lane': 'L124', 'inFOV': False})]\n",
      "[(0, {'P_true': 0, 'lane': 'ls020', 'inFOV': False})]\n",
      "[(0, {'P_true': 1, 'lane': 'ls173', 'inFOV': False})]\n",
      "[(0, {'P_true': 1, 'lane': 'ls123', 'inFOV': False})]\n",
      "[(0, {'P_true': 1, 'lane': 'ls023', 'inFOV': False})]\n",
      "[(0, {'P_true': 1, 'lane': 'ls057', 'inFOV': False})]\n",
      "[(0, {'P_true': 1, 'lane': 'ls052', 'inFOV': False})]\n",
      "[(0, {'P_true': 0, 'lane': 'L110', 'inFOV': False})]\n",
      "[(0, {'P_true': 1, 'lane': 'L105', 'inFOV': False})]\n",
      "[(0, {'P_true': 1, 'lane': 'ls161', 'inFOV': False})]\n",
      "[(0, {'P_true': 1, 'lane': 'ls196', 'inFOV': False})]\n",
      "[(0, {'P_true': 1, 'lane': 'ls164', 'inFOV': False})]\n",
      "[(0, {'P_true': 1, 'lane': 'ls206', 'inFOV': False})]\n",
      "[(0, {'P_true': 1, 'lane': 'L125', 'inFOV': False})]\n",
      "[(0, {'P_true': 1, 'lane': 'L93', 'inFOV': False})]\n",
      "[(0, {'P_true': 1, 'lane': 'ls163', 'inFOV': False})]\n",
      "[(0, {'P_true': 0, 'lane': 'ls199', 'inFOV': False})]\n",
      "[(0, {'P_true': 1, 'lane': 'ls182', 'inFOV': False})]\n",
      "[(0, {'P_true': 1, 'lane': 'ls039', 'inFOV': False})]\n",
      "[(0, {'P_true': 1, 'lane': 'ls104', 'inFOV': False})]\n",
      "[(0, {'P_true': 0, 'lane': 'ls053', 'inFOV': False})]\n",
      "[(0, {'P_true': 1, 'lane': 'ls207', 'inFOV': False})]\n",
      "[(0, {'P_true': 1, 'lane': 'ls074', 'inFOV': False})]\n",
      "[(0, {'P_true': 0, 'lane': 'ls030', 'inFOV': False})]\n",
      "[(0, {'P_true': 0, 'lane': 'ls254', 'inFOV': False})]\n",
      "[(0, {'P_true': 1, 'lane': 'ls183', 'inFOV': False})]\n",
      "[(0, {'P_true': 0, 'lane': 'ls093', 'inFOV': False})]\n",
      "[(0, {'P_true': 1, 'lane': 'ls046', 'inFOV': False})]\n",
      "[(0, {'P_true': 0, 'lane': 'ls162', 'inFOV': False})]\n",
      "[(0, {'P_true': 1, 'lane': 'L56', 'inFOV': False})]\n",
      "[(0, {'P_true': 0, 'lane': 'ls145', 'inFOV': False})]\n",
      "[(0, {'P_true': 0, 'lane': 'ls018', 'inFOV': False})]\n",
      "[(0, {'P_true': 0, 'lane': 'L127', 'inFOV': False})]\n",
      "[(0, {'P_true': 0, 'lane': 'ls067', 'inFOV': False})]\n",
      "[(0, {'P_true': 0, 'lane': 'ls192', 'inFOV': False})]\n",
      "[(0, {'P_true': 0, 'lane': 'ls222', 'inFOV': False})]\n",
      "[(0, {'P_true': 0, 'lane': 'ls149', 'inFOV': False})]\n",
      "[(0, {'P_true': 0, 'lane': 'ls017', 'inFOV': False})]\n",
      "[(0, {'P_true': 0, 'lane': 'ls244', 'inFOV': False})]\n",
      "[(0, {'P_true': 1, 'lane': 'ls257', 'inFOV': False})]\n",
      "[(0, {'P_true': 0, 'lane': 'ls078', 'inFOV': True})]\n",
      "[(0, {'P_true': 1, 'lane': 'ls166', 'inFOV': True})]\n",
      "[(0, {'P_true': 1, 'lane': 'L20', 'inFOV': False})]\n",
      "[(0, {'P_true': 1, 'lane': 'ls091', 'inFOV': False})]\n",
      "[(0, {'P_true': 0, 'lane': 'ls153', 'inFOV': False})]\n",
      "[(0, {'P_true': 0, 'lane': 'L121', 'inFOV': False})]\n",
      "[(0, {'P_true': 1, 'lane': 'ls099', 'inFOV': False})]\n",
      "[(0, {'P_true': 1, 'lane': 'ls160', 'inFOV': False})]\n",
      "[(0, {'P_true': 1, 'lane': 'L36', 'inFOV': False})]\n",
      "[(0, {'P_true': 1, 'lane': 'ls268', 'inFOV': False})]\n",
      "[(0, {'P_true': 0, 'lane': 'ls130', 'inFOV': False})]\n",
      "[(0, {'P_true': 1, 'lane': 'ls045', 'inFOV': False})]\n",
      "[(0, {'P_true': 0, 'lane': 'L137', 'inFOV': False})]\n",
      "[(0, {'P_true': 0, 'lane': 'L130', 'inFOV': False})]\n",
      "[(0, {'P_true': 1, 'lane': 'L126', 'inFOV': False})]\n",
      "[(0, {'P_true': 1, 'lane': 'ls124', 'inFOV': False})]\n",
      "[(0, {'P_true': 1, 'lane': 'ls233', 'inFOV': False})]\n",
      "[(0, {'P_true': 0, 'lane': 'ls033', 'inFOV': False})]\n",
      "[(0, {'P_true': 1, 'lane': 'ls131', 'inFOV': False})]\n",
      "[(0, {'P_true': 0, 'lane': 'L52', 'inFOV': False})]\n",
      "[(0, {'P_true': 1, 'lane': 'L129', 'inFOV': False})]\n",
      "[(0, {'P_true': 0, 'lane': 'ls165', 'inFOV': False})]\n",
      "[(0, {'P_true': 1, 'lane': 'ls210', 'inFOV': False})]\n",
      "[(0, {'P_true': 0, 'lane': 'L117', 'inFOV': False})]\n",
      "[(0, {'P_true': 1, 'lane': 'L35', 'inFOV': False})]\n",
      "[(0, {'P_true': 0, 'lane': 'L101', 'inFOV': False})]\n",
      "[(0, {'P_true': 0, 'lane': 'ls043', 'inFOV': False})]\n",
      "[(0, {'P_true': 1, 'lane': 'ls180', 'inFOV': False})]\n",
      "[(0, {'P_true': 1, 'lane': 'L97', 'inFOV': False})]\n",
      "[(0, {'P_true': 0, 'lane': 'L60', 'inFOV': False})]\n",
      "[(0, {'P_true': 0, 'lane': 'L99', 'inFOV': False})]\n",
      "[(0, {'P_true': 0, 'lane': 'ls170', 'inFOV': False})]\n",
      "[(0, {'P_true': 1, 'lane': 'ls269', 'inFOV': False})]\n",
      "[(0, {'P_true': 1, 'lane': 'ls141', 'inFOV': False})]\n",
      "[(0, {'P_true': 0, 'lane': 'ls085', 'inFOV': False})]\n",
      "[(0, {'P_true': 1, 'lane': 'ls024', 'inFOV': False})]\n",
      "[(0, {'P_true': 0, 'lane': 'L58', 'inFOV': False})]\n",
      "[(0, {'P_true': 1, 'lane': 'ls178', 'inFOV': False})]\n",
      "[(0, {'P_true': 1, 'lane': 'ls118', 'inFOV': False})]\n",
      "[(0, {'P_true': 1, 'lane': 'ls159', 'inFOV': False})]\n",
      "[(0, {'P_true': 1, 'lane': 'L135', 'inFOV': False})]\n",
      "[(0, {'P_true': 1, 'lane': 'ls110', 'inFOV': False})]\n",
      "[(0, {'P_true': 1, 'lane': 'ls240', 'inFOV': False})]\n",
      "[(0, {'P_true': 1, 'lane': 'ls061', 'inFOV': False})]\n",
      "[(0, {'P_true': 1, 'lane': 'L128', 'inFOV': True})]\n",
      "[(0, {'P_true': 1, 'lane': 'ls108', 'inFOV': False})]\n",
      "[(0, {'P_true': 0, 'lane': 'ls195', 'inFOV': False})]\n",
      "[(0, {'P_true': 0, 'lane': 'ls197', 'inFOV': False})]\n",
      "[(0, {'P_true': 0, 'lane': 'ls169', 'inFOV': False})]\n",
      "[(0, {'P_true': 1, 'lane': 'ls005', 'inFOV': False})]\n",
      "[(0, {'P_true': 0, 'lane': 'L134', 'inFOV': False})]\n",
      "[(0, {'P_true': 1, 'lane': 'L131', 'inFOV': False})]\n",
      "[(0, {'P_true': 0, 'lane': 'ls075', 'inFOV': False})]\n",
      "[(0, {'P_true': 1, 'lane': 'ls036', 'inFOV': False})]\n",
      "[(0, {'P_true': 1, 'lane': 'ls038', 'inFOV': False})]\n",
      "[(0, {'P_true': 0, 'lane': 'L123', 'inFOV': False})]\n",
      "[(0, {'P_true': 0, 'lane': 'L88', 'inFOV': False})]\n",
      "[(0, {'P_true': 0, 'lane': 'L113', 'inFOV': True})]\n",
      "[(0, {'P_true': 1, 'lane': 'L57', 'inFOV': False})]\n",
      "[(0, {'P_true': 0, 'lane': 'L82', 'inFOV': False})]\n",
      "[(0, {'P_true': 0, 'lane': 'L132', 'inFOV': False})]\n",
      "[(0, {'P_true': 1, 'lane': 'L37', 'inFOV': False})]\n",
      "[(0, {'P_true': 1, 'lane': 'L136', 'inFOV': False})]\n",
      "[(0, {'P_true': 0, 'lane': 'L91', 'inFOV': False})]\n",
      "[(0, {'P_true': 0, 'lane': 'L98', 'inFOV': False})]\n",
      "[(0, {'P_true': 1, 'lane': 'ls026', 'inFOV': False})]\n",
      "[(0, {'P_true': 0, 'lane': 'ls232', 'inFOV': False})]\n",
      "[(0, {'P_true': 0, 'lane': 'L133', 'inFOV': False})]\n"
     ]
    }
   ],
   "source": [
    "import random \n",
    "\n",
    "for node1, node2 in sk.G.edges():\n",
    "    sk.G[node1][node2][0]['P_true'] = random.randint(0,1)\n",
    "    edge_data = sk.G.get_edge_data(node1, node2).items()\n",
    "    print(edge_data)\n"
   ]
  },
  {
   "cell_type": "markdown",
   "metadata": {},
   "source": [
    "Initialize P_berlief"
   ]
  },
  {
   "cell_type": "code",
   "execution_count": 30,
   "metadata": {},
   "outputs": [
    {
     "name": "stdout",
     "output_type": "stream",
     "text": [
      "[(0, {'P_belief': 0.5, 'P_true': 1, 'lane': 'ls229', 'inFOV': False})]\n",
      "[(0, {'P_belief': 0.5, 'P_true': 1, 'lane': 'ls111', 'inFOV': False})]\n",
      "[(0, {'P_belief': 0.5, 'P_true': 0, 'lane': 'L111', 'inFOV': False})]\n",
      "[(0, {'P_belief': 0.5, 'P_true': 1, 'lane': 'ls079', 'inFOV': False})]\n",
      "[(0, {'P_belief': 0.5, 'P_true': 1, 'lane': 'ls234', 'inFOV': False})]\n",
      "[(0, {'P_belief': 0.5, 'P_true': 1, 'lane': 'ls009', 'inFOV': False})]\n",
      "[(0, {'P_belief': 0.5, 'P_true': 0, 'lane': 'ls122', 'inFOV': False})]\n",
      "[(0, {'P_belief': 0.5, 'P_true': 0, 'lane': 'ls245', 'inFOV': False})]\n",
      "[(0, {'P_belief': 0.5, 'P_true': 1, 'lane': 'ls270', 'inFOV': False})]\n",
      "[(0, {'P_belief': 0.5, 'P_true': 1, 'lane': 'ls157', 'inFOV': False})]\n",
      "[(0, {'P_belief': 0.5, 'P_true': 1, 'lane': 'ls134', 'inFOV': False})]\n",
      "[(0, {'P_belief': 0.5, 'P_true': 0, 'lane': 'ls096', 'inFOV': False})]\n",
      "[(0, {'P_belief': 0.5, 'P_true': 0, 'lane': 'ls050', 'inFOV': False})]\n",
      "[(0, {'P_belief': 0.5, 'P_true': 1, 'lane': 'ls260', 'inFOV': False})]\n",
      "[(0, {'P_belief': 0.5, 'P_true': 1, 'lane': 'ls064', 'inFOV': False})]\n",
      "[(0, {'P_belief': 0.5, 'P_true': 1, 'lane': 'ls103', 'inFOV': False})]\n",
      "[(0, {'P_belief': 0.5, 'P_true': 0, 'lane': 'ls062', 'inFOV': False})]\n",
      "[(0, {'P_belief': 0.5, 'P_true': 0, 'lane': 'ls211', 'inFOV': False})]\n",
      "[(0, {'P_belief': 0.5, 'P_true': 0, 'lane': 'ls204', 'inFOV': False})]\n",
      "[(0, {'P_belief': 0.5, 'P_true': 1, 'lane': 'ls127', 'inFOV': False})]\n",
      "[(0, {'P_belief': 0.5, 'P_true': 0, 'lane': 'L112', 'inFOV': False})]\n",
      "[(0, {'P_belief': 0.5, 'P_true': 0, 'lane': 'ls135', 'inFOV': False})]\n",
      "[(0, {'P_belief': 0.5, 'P_true': 0, 'lane': 'ls092', 'inFOV': False})]\n",
      "[(0, {'P_belief': 0.5, 'P_true': 1, 'lane': 'ls106', 'inFOV': False})]\n",
      "[(0, {'P_belief': 0.5, 'P_true': 0, 'lane': 'ls136', 'inFOV': False})]\n",
      "[(0, {'P_belief': 0.5, 'P_true': 1, 'lane': 'ls177', 'inFOV': False})]\n",
      "[(0, {'P_belief': 0.5, 'P_true': 0, 'lane': 'ls146', 'inFOV': False})]\n",
      "[(0, {'P_belief': 0.5, 'P_true': 0, 'lane': 'ls272', 'inFOV': False})]\n",
      "[(0, {'P_belief': 0.5, 'P_true': 1, 'lane': 'ls186', 'inFOV': False})]\n",
      "[(0, {'P_belief': 0.5, 'P_true': 0, 'lane': 'L108', 'inFOV': False})]\n",
      "[(0, {'P_belief': 0.5, 'P_true': 1, 'lane': 'L124', 'inFOV': False})]\n",
      "[(0, {'P_belief': 0.5, 'P_true': 0, 'lane': 'ls020', 'inFOV': False})]\n",
      "[(0, {'P_belief': 0.5, 'P_true': 1, 'lane': 'ls173', 'inFOV': False})]\n",
      "[(0, {'P_belief': 0.5, 'P_true': 1, 'lane': 'ls123', 'inFOV': False})]\n",
      "[(0, {'P_belief': 0.5, 'P_true': 1, 'lane': 'ls023', 'inFOV': False})]\n",
      "[(0, {'P_belief': 0.5, 'P_true': 1, 'lane': 'ls057', 'inFOV': False})]\n",
      "[(0, {'P_belief': 0.5, 'P_true': 1, 'lane': 'ls052', 'inFOV': False})]\n",
      "[(0, {'P_belief': 0.5, 'P_true': 0, 'lane': 'L110', 'inFOV': False})]\n",
      "[(0, {'P_belief': 0.5, 'P_true': 1, 'lane': 'L105', 'inFOV': False})]\n",
      "[(0, {'P_belief': 0.5, 'P_true': 1, 'lane': 'ls161', 'inFOV': False})]\n",
      "[(0, {'P_belief': 0.5, 'P_true': 1, 'lane': 'ls196', 'inFOV': False})]\n",
      "[(0, {'P_belief': 0.5, 'P_true': 1, 'lane': 'ls164', 'inFOV': False})]\n",
      "[(0, {'P_belief': 0.5, 'P_true': 1, 'lane': 'ls206', 'inFOV': False})]\n",
      "[(0, {'P_belief': 0.5, 'P_true': 1, 'lane': 'L125', 'inFOV': False})]\n",
      "[(0, {'P_belief': 0.5, 'P_true': 1, 'lane': 'L93', 'inFOV': False})]\n",
      "[(0, {'P_belief': 0.5, 'P_true': 1, 'lane': 'ls163', 'inFOV': False})]\n",
      "[(0, {'P_belief': 0.5, 'P_true': 0, 'lane': 'ls199', 'inFOV': False})]\n",
      "[(0, {'P_belief': 0.5, 'P_true': 1, 'lane': 'ls182', 'inFOV': False})]\n",
      "[(0, {'P_belief': 0.5, 'P_true': 1, 'lane': 'ls039', 'inFOV': False})]\n",
      "[(0, {'P_belief': 0.5, 'P_true': 1, 'lane': 'ls104', 'inFOV': False})]\n",
      "[(0, {'P_belief': 0.5, 'P_true': 0, 'lane': 'ls053', 'inFOV': False})]\n",
      "[(0, {'P_belief': 0.5, 'P_true': 1, 'lane': 'ls207', 'inFOV': False})]\n",
      "[(0, {'P_belief': 0.5, 'P_true': 1, 'lane': 'ls074', 'inFOV': False})]\n",
      "[(0, {'P_belief': 0.5, 'P_true': 0, 'lane': 'ls030', 'inFOV': False})]\n",
      "[(0, {'P_belief': 0.5, 'P_true': 0, 'lane': 'ls254', 'inFOV': False})]\n",
      "[(0, {'P_belief': 0.5, 'P_true': 1, 'lane': 'ls183', 'inFOV': False})]\n",
      "[(0, {'P_belief': 0.5, 'P_true': 0, 'lane': 'ls093', 'inFOV': False})]\n",
      "[(0, {'P_belief': 0.5, 'P_true': 1, 'lane': 'ls046', 'inFOV': False})]\n",
      "[(0, {'P_belief': 0.5, 'P_true': 0, 'lane': 'ls162', 'inFOV': False})]\n",
      "[(0, {'P_belief': 0.5, 'P_true': 1, 'lane': 'L56', 'inFOV': False})]\n",
      "[(0, {'P_belief': 0.5, 'P_true': 0, 'lane': 'ls145', 'inFOV': False})]\n",
      "[(0, {'P_belief': 0.5, 'P_true': 0, 'lane': 'ls018', 'inFOV': False})]\n",
      "[(0, {'P_belief': 0.5, 'P_true': 0, 'lane': 'L127', 'inFOV': False})]\n",
      "[(0, {'P_belief': 0.5, 'P_true': 0, 'lane': 'ls067', 'inFOV': False})]\n",
      "[(0, {'P_belief': 0.5, 'P_true': 0, 'lane': 'ls192', 'inFOV': False})]\n",
      "[(0, {'P_belief': 0.5, 'P_true': 0, 'lane': 'ls222', 'inFOV': False})]\n",
      "[(0, {'P_belief': 0.5, 'P_true': 0, 'lane': 'ls149', 'inFOV': False})]\n",
      "[(0, {'P_belief': 0.5, 'P_true': 0, 'lane': 'ls017', 'inFOV': False})]\n",
      "[(0, {'P_belief': 0.5, 'P_true': 0, 'lane': 'ls244', 'inFOV': False})]\n",
      "[(0, {'P_belief': 0.5, 'P_true': 1, 'lane': 'ls257', 'inFOV': False})]\n",
      "[(0, {'P_belief': 0.5, 'P_true': 0, 'lane': 'ls078', 'inFOV': True})]\n",
      "[(0, {'P_belief': 0.5, 'P_true': 1, 'lane': 'ls166', 'inFOV': True})]\n",
      "[(0, {'P_belief': 0.5, 'P_true': 1, 'lane': 'L20', 'inFOV': False})]\n",
      "[(0, {'P_belief': 0.5, 'P_true': 1, 'lane': 'ls091', 'inFOV': False})]\n",
      "[(0, {'P_belief': 0.5, 'P_true': 0, 'lane': 'ls153', 'inFOV': False})]\n",
      "[(0, {'P_belief': 0.5, 'P_true': 0, 'lane': 'L121', 'inFOV': False})]\n",
      "[(0, {'P_belief': 0.5, 'P_true': 1, 'lane': 'ls099', 'inFOV': False})]\n",
      "[(0, {'P_belief': 0.5, 'P_true': 1, 'lane': 'ls160', 'inFOV': False})]\n",
      "[(0, {'P_belief': 0.5, 'P_true': 1, 'lane': 'L36', 'inFOV': False})]\n",
      "[(0, {'P_belief': 0.5, 'P_true': 1, 'lane': 'ls268', 'inFOV': False})]\n",
      "[(0, {'P_belief': 0.5, 'P_true': 0, 'lane': 'ls130', 'inFOV': False})]\n",
      "[(0, {'P_belief': 0.5, 'P_true': 1, 'lane': 'ls045', 'inFOV': False})]\n",
      "[(0, {'P_belief': 0.5, 'P_true': 0, 'lane': 'L137', 'inFOV': False})]\n",
      "[(0, {'P_belief': 0.5, 'P_true': 0, 'lane': 'L130', 'inFOV': False})]\n",
      "[(0, {'P_belief': 0.5, 'P_true': 1, 'lane': 'L126', 'inFOV': False})]\n",
      "[(0, {'P_belief': 0.5, 'P_true': 1, 'lane': 'ls124', 'inFOV': False})]\n",
      "[(0, {'P_belief': 0.5, 'P_true': 1, 'lane': 'ls233', 'inFOV': False})]\n",
      "[(0, {'P_belief': 0.5, 'P_true': 0, 'lane': 'ls033', 'inFOV': False})]\n",
      "[(0, {'P_belief': 0.5, 'P_true': 1, 'lane': 'ls131', 'inFOV': False})]\n",
      "[(0, {'P_belief': 0.5, 'P_true': 0, 'lane': 'L52', 'inFOV': False})]\n",
      "[(0, {'P_belief': 0.5, 'P_true': 1, 'lane': 'L129', 'inFOV': False})]\n",
      "[(0, {'P_belief': 0.5, 'P_true': 0, 'lane': 'ls165', 'inFOV': False})]\n",
      "[(0, {'P_belief': 0.5, 'P_true': 1, 'lane': 'ls210', 'inFOV': False})]\n",
      "[(0, {'P_belief': 0.5, 'P_true': 0, 'lane': 'L117', 'inFOV': False})]\n",
      "[(0, {'P_belief': 0.5, 'P_true': 1, 'lane': 'L35', 'inFOV': False})]\n",
      "[(0, {'P_belief': 0.5, 'P_true': 0, 'lane': 'L101', 'inFOV': False})]\n",
      "[(0, {'P_belief': 0.5, 'P_true': 0, 'lane': 'ls043', 'inFOV': False})]\n",
      "[(0, {'P_belief': 0.5, 'P_true': 1, 'lane': 'ls180', 'inFOV': False})]\n",
      "[(0, {'P_belief': 0.5, 'P_true': 1, 'lane': 'L97', 'inFOV': False})]\n",
      "[(0, {'P_belief': 0.5, 'P_true': 0, 'lane': 'L60', 'inFOV': False})]\n",
      "[(0, {'P_belief': 0.5, 'P_true': 0, 'lane': 'L99', 'inFOV': False})]\n",
      "[(0, {'P_belief': 0.5, 'P_true': 0, 'lane': 'ls170', 'inFOV': False})]\n",
      "[(0, {'P_belief': 0.5, 'P_true': 1, 'lane': 'ls269', 'inFOV': False})]\n",
      "[(0, {'P_belief': 0.5, 'P_true': 1, 'lane': 'ls141', 'inFOV': False})]\n",
      "[(0, {'P_belief': 0.5, 'P_true': 0, 'lane': 'ls085', 'inFOV': False})]\n",
      "[(0, {'P_belief': 0.5, 'P_true': 1, 'lane': 'ls024', 'inFOV': False})]\n",
      "[(0, {'P_belief': 0.5, 'P_true': 0, 'lane': 'L58', 'inFOV': False})]\n",
      "[(0, {'P_belief': 0.5, 'P_true': 1, 'lane': 'ls178', 'inFOV': False})]\n",
      "[(0, {'P_belief': 0.5, 'P_true': 1, 'lane': 'ls118', 'inFOV': False})]\n",
      "[(0, {'P_belief': 0.5, 'P_true': 1, 'lane': 'ls159', 'inFOV': False})]\n",
      "[(0, {'P_belief': 0.5, 'P_true': 1, 'lane': 'L135', 'inFOV': False})]\n",
      "[(0, {'P_belief': 0.5, 'P_true': 1, 'lane': 'ls110', 'inFOV': False})]\n",
      "[(0, {'P_belief': 0.5, 'P_true': 1, 'lane': 'ls240', 'inFOV': False})]\n",
      "[(0, {'P_belief': 0.5, 'P_true': 1, 'lane': 'ls061', 'inFOV': False})]\n",
      "[(0, {'P_belief': 0.5, 'P_true': 1, 'lane': 'L128', 'inFOV': True})]\n",
      "[(0, {'P_belief': 0.5, 'P_true': 1, 'lane': 'ls108', 'inFOV': False})]\n",
      "[(0, {'P_belief': 0.5, 'P_true': 0, 'lane': 'ls195', 'inFOV': False})]\n",
      "[(0, {'P_belief': 0.5, 'P_true': 0, 'lane': 'ls197', 'inFOV': False})]\n",
      "[(0, {'P_belief': 0.5, 'P_true': 0, 'lane': 'ls169', 'inFOV': False})]\n",
      "[(0, {'P_belief': 0.5, 'P_true': 1, 'lane': 'ls005', 'inFOV': False})]\n",
      "[(0, {'P_belief': 0.5, 'P_true': 0, 'lane': 'L134', 'inFOV': False})]\n",
      "[(0, {'P_belief': 0.5, 'P_true': 1, 'lane': 'L131', 'inFOV': False})]\n",
      "[(0, {'P_belief': 0.5, 'P_true': 0, 'lane': 'ls075', 'inFOV': False})]\n",
      "[(0, {'P_belief': 0.5, 'P_true': 1, 'lane': 'ls036', 'inFOV': False})]\n",
      "[(0, {'P_belief': 0.5, 'P_true': 1, 'lane': 'ls038', 'inFOV': False})]\n",
      "[(0, {'P_belief': 0.5, 'P_true': 0, 'lane': 'L123', 'inFOV': False})]\n",
      "[(0, {'P_belief': 0.5, 'P_true': 0, 'lane': 'L88', 'inFOV': False})]\n",
      "[(0, {'P_belief': 0.5, 'P_true': 0, 'lane': 'L113', 'inFOV': True})]\n",
      "[(0, {'P_belief': 0.5, 'P_true': 1, 'lane': 'L57', 'inFOV': False})]\n",
      "[(0, {'P_belief': 0.5, 'P_true': 0, 'lane': 'L82', 'inFOV': False})]\n",
      "[(0, {'P_belief': 0.5, 'P_true': 0, 'lane': 'L132', 'inFOV': False})]\n",
      "[(0, {'P_belief': 0.5, 'P_true': 1, 'lane': 'L37', 'inFOV': False})]\n",
      "[(0, {'P_belief': 0.5, 'P_true': 1, 'lane': 'L136', 'inFOV': False})]\n",
      "[(0, {'P_belief': 0.5, 'P_true': 0, 'lane': 'L91', 'inFOV': False})]\n",
      "[(0, {'P_belief': 0.5, 'P_true': 0, 'lane': 'L98', 'inFOV': False})]\n",
      "[(0, {'P_belief': 0.5, 'P_true': 1, 'lane': 'ls026', 'inFOV': False})]\n",
      "[(0, {'P_belief': 0.5, 'P_true': 0, 'lane': 'ls232', 'inFOV': False})]\n",
      "[(0, {'P_belief': 0.5, 'P_true': 0, 'lane': 'L133', 'inFOV': False})]\n"
     ]
    }
   ],
   "source": [
    "for node1, node2 in sk.G.edges():\n",
    "    sk.G[node1][node2][0]['P_belief'] = 0.5\n",
    "    edge_data = sk.G.get_edge_data(node1, node2).items()\n",
    "    print(edge_data)"
   ]
  },
  {
   "cell_type": "markdown",
   "metadata": {},
   "source": [
    "Function that updates belief for segments we can observe"
   ]
  },
  {
   "cell_type": "code",
   "execution_count": 31,
   "metadata": {},
   "outputs": [],
   "source": [
    "def observation_update(G):\n",
    "    \n",
    "    for node1, node2 in G.edges():\n",
    "\n",
    "        if G[node1][node2][0]['inFOV'] == True:\n",
    "            G[node1][node2][0]['P_belief']=G[node1][node2][0]['P_true']\n",
    "            \n"
   ]
  },
  {
   "cell_type": "code",
   "execution_count": 32,
   "metadata": {},
   "outputs": [],
   "source": [
    "observation_update(sk.G)"
   ]
  },
  {
   "cell_type": "code",
   "execution_count": 33,
   "metadata": {},
   "outputs": [
    {
     "name": "stdout",
     "output_type": "stream",
     "text": [
      "[(0, {'P_belief': 0.5, 'P_true': 1, 'lane': 'ls229', 'inFOV': False})]\n",
      "[(0, {'P_belief': 0.5, 'P_true': 1, 'lane': 'ls111', 'inFOV': False})]\n",
      "[(0, {'P_belief': 0.5, 'P_true': 0, 'lane': 'L111', 'inFOV': False})]\n",
      "[(0, {'P_belief': 0.5, 'P_true': 1, 'lane': 'ls079', 'inFOV': False})]\n",
      "[(0, {'P_belief': 0.5, 'P_true': 1, 'lane': 'ls234', 'inFOV': False})]\n",
      "[(0, {'P_belief': 0.5, 'P_true': 1, 'lane': 'ls009', 'inFOV': False})]\n",
      "[(0, {'P_belief': 0.5, 'P_true': 0, 'lane': 'ls122', 'inFOV': False})]\n",
      "[(0, {'P_belief': 0.5, 'P_true': 0, 'lane': 'ls245', 'inFOV': False})]\n",
      "[(0, {'P_belief': 0.5, 'P_true': 1, 'lane': 'ls270', 'inFOV': False})]\n",
      "[(0, {'P_belief': 0.5, 'P_true': 1, 'lane': 'ls157', 'inFOV': False})]\n",
      "[(0, {'P_belief': 0.5, 'P_true': 1, 'lane': 'ls134', 'inFOV': False})]\n",
      "[(0, {'P_belief': 0.5, 'P_true': 0, 'lane': 'ls096', 'inFOV': False})]\n",
      "[(0, {'P_belief': 0.5, 'P_true': 0, 'lane': 'ls050', 'inFOV': False})]\n",
      "[(0, {'P_belief': 0.5, 'P_true': 1, 'lane': 'ls260', 'inFOV': False})]\n",
      "[(0, {'P_belief': 0.5, 'P_true': 1, 'lane': 'ls064', 'inFOV': False})]\n",
      "[(0, {'P_belief': 0.5, 'P_true': 1, 'lane': 'ls103', 'inFOV': False})]\n",
      "[(0, {'P_belief': 0.5, 'P_true': 0, 'lane': 'ls062', 'inFOV': False})]\n",
      "[(0, {'P_belief': 0.5, 'P_true': 0, 'lane': 'ls211', 'inFOV': False})]\n",
      "[(0, {'P_belief': 0.5, 'P_true': 0, 'lane': 'ls204', 'inFOV': False})]\n",
      "[(0, {'P_belief': 0.5, 'P_true': 1, 'lane': 'ls127', 'inFOV': False})]\n",
      "[(0, {'P_belief': 0.5, 'P_true': 0, 'lane': 'L112', 'inFOV': False})]\n",
      "[(0, {'P_belief': 0.5, 'P_true': 0, 'lane': 'ls135', 'inFOV': False})]\n",
      "[(0, {'P_belief': 0.5, 'P_true': 0, 'lane': 'ls092', 'inFOV': False})]\n",
      "[(0, {'P_belief': 0.5, 'P_true': 1, 'lane': 'ls106', 'inFOV': False})]\n",
      "[(0, {'P_belief': 0.5, 'P_true': 0, 'lane': 'ls136', 'inFOV': False})]\n",
      "[(0, {'P_belief': 0.5, 'P_true': 1, 'lane': 'ls177', 'inFOV': False})]\n",
      "[(0, {'P_belief': 0.5, 'P_true': 0, 'lane': 'ls146', 'inFOV': False})]\n",
      "[(0, {'P_belief': 0.5, 'P_true': 0, 'lane': 'ls272', 'inFOV': False})]\n",
      "[(0, {'P_belief': 0.5, 'P_true': 1, 'lane': 'ls186', 'inFOV': False})]\n",
      "[(0, {'P_belief': 0.5, 'P_true': 0, 'lane': 'L108', 'inFOV': False})]\n",
      "[(0, {'P_belief': 0.5, 'P_true': 1, 'lane': 'L124', 'inFOV': False})]\n",
      "[(0, {'P_belief': 0.5, 'P_true': 0, 'lane': 'ls020', 'inFOV': False})]\n",
      "[(0, {'P_belief': 0.5, 'P_true': 1, 'lane': 'ls173', 'inFOV': False})]\n",
      "[(0, {'P_belief': 0.5, 'P_true': 1, 'lane': 'ls123', 'inFOV': False})]\n",
      "[(0, {'P_belief': 0.5, 'P_true': 1, 'lane': 'ls023', 'inFOV': False})]\n",
      "[(0, {'P_belief': 0.5, 'P_true': 1, 'lane': 'ls057', 'inFOV': False})]\n",
      "[(0, {'P_belief': 0.5, 'P_true': 1, 'lane': 'ls052', 'inFOV': False})]\n",
      "[(0, {'P_belief': 0.5, 'P_true': 0, 'lane': 'L110', 'inFOV': False})]\n",
      "[(0, {'P_belief': 0.5, 'P_true': 1, 'lane': 'L105', 'inFOV': False})]\n",
      "[(0, {'P_belief': 0.5, 'P_true': 1, 'lane': 'ls161', 'inFOV': False})]\n",
      "[(0, {'P_belief': 0.5, 'P_true': 1, 'lane': 'ls196', 'inFOV': False})]\n",
      "[(0, {'P_belief': 0.5, 'P_true': 1, 'lane': 'ls164', 'inFOV': False})]\n",
      "[(0, {'P_belief': 0.5, 'P_true': 1, 'lane': 'ls206', 'inFOV': False})]\n",
      "[(0, {'P_belief': 0.5, 'P_true': 1, 'lane': 'L125', 'inFOV': False})]\n",
      "[(0, {'P_belief': 0.5, 'P_true': 1, 'lane': 'L93', 'inFOV': False})]\n",
      "[(0, {'P_belief': 0.5, 'P_true': 1, 'lane': 'ls163', 'inFOV': False})]\n",
      "[(0, {'P_belief': 0.5, 'P_true': 0, 'lane': 'ls199', 'inFOV': False})]\n",
      "[(0, {'P_belief': 0.5, 'P_true': 1, 'lane': 'ls182', 'inFOV': False})]\n",
      "[(0, {'P_belief': 0.5, 'P_true': 1, 'lane': 'ls039', 'inFOV': False})]\n",
      "[(0, {'P_belief': 0.5, 'P_true': 1, 'lane': 'ls104', 'inFOV': False})]\n",
      "[(0, {'P_belief': 0.5, 'P_true': 0, 'lane': 'ls053', 'inFOV': False})]\n",
      "[(0, {'P_belief': 0.5, 'P_true': 1, 'lane': 'ls207', 'inFOV': False})]\n",
      "[(0, {'P_belief': 0.5, 'P_true': 1, 'lane': 'ls074', 'inFOV': False})]\n",
      "[(0, {'P_belief': 0.5, 'P_true': 0, 'lane': 'ls030', 'inFOV': False})]\n",
      "[(0, {'P_belief': 0.5, 'P_true': 0, 'lane': 'ls254', 'inFOV': False})]\n",
      "[(0, {'P_belief': 0.5, 'P_true': 1, 'lane': 'ls183', 'inFOV': False})]\n",
      "[(0, {'P_belief': 0.5, 'P_true': 0, 'lane': 'ls093', 'inFOV': False})]\n",
      "[(0, {'P_belief': 0.5, 'P_true': 1, 'lane': 'ls046', 'inFOV': False})]\n",
      "[(0, {'P_belief': 0.5, 'P_true': 0, 'lane': 'ls162', 'inFOV': False})]\n",
      "[(0, {'P_belief': 0.5, 'P_true': 1, 'lane': 'L56', 'inFOV': False})]\n",
      "[(0, {'P_belief': 0.5, 'P_true': 0, 'lane': 'ls145', 'inFOV': False})]\n",
      "[(0, {'P_belief': 0.5, 'P_true': 0, 'lane': 'ls018', 'inFOV': False})]\n",
      "[(0, {'P_belief': 0.5, 'P_true': 0, 'lane': 'L127', 'inFOV': False})]\n",
      "[(0, {'P_belief': 0.5, 'P_true': 0, 'lane': 'ls067', 'inFOV': False})]\n",
      "[(0, {'P_belief': 0.5, 'P_true': 0, 'lane': 'ls192', 'inFOV': False})]\n",
      "[(0, {'P_belief': 0.5, 'P_true': 0, 'lane': 'ls222', 'inFOV': False})]\n",
      "[(0, {'P_belief': 0.5, 'P_true': 0, 'lane': 'ls149', 'inFOV': False})]\n",
      "[(0, {'P_belief': 0.5, 'P_true': 0, 'lane': 'ls017', 'inFOV': False})]\n",
      "[(0, {'P_belief': 0.5, 'P_true': 0, 'lane': 'ls244', 'inFOV': False})]\n",
      "[(0, {'P_belief': 0.5, 'P_true': 1, 'lane': 'ls257', 'inFOV': False})]\n",
      "[(0, {'P_belief': 0, 'P_true': 0, 'lane': 'ls078', 'inFOV': True})]\n",
      "[(0, {'P_belief': 1, 'P_true': 1, 'lane': 'ls166', 'inFOV': True})]\n",
      "[(0, {'P_belief': 0.5, 'P_true': 1, 'lane': 'L20', 'inFOV': False})]\n",
      "[(0, {'P_belief': 0.5, 'P_true': 1, 'lane': 'ls091', 'inFOV': False})]\n",
      "[(0, {'P_belief': 0.5, 'P_true': 0, 'lane': 'ls153', 'inFOV': False})]\n",
      "[(0, {'P_belief': 0.5, 'P_true': 0, 'lane': 'L121', 'inFOV': False})]\n",
      "[(0, {'P_belief': 0.5, 'P_true': 1, 'lane': 'ls099', 'inFOV': False})]\n",
      "[(0, {'P_belief': 0.5, 'P_true': 1, 'lane': 'ls160', 'inFOV': False})]\n",
      "[(0, {'P_belief': 0.5, 'P_true': 1, 'lane': 'L36', 'inFOV': False})]\n",
      "[(0, {'P_belief': 0.5, 'P_true': 1, 'lane': 'ls268', 'inFOV': False})]\n",
      "[(0, {'P_belief': 0.5, 'P_true': 0, 'lane': 'ls130', 'inFOV': False})]\n",
      "[(0, {'P_belief': 0.5, 'P_true': 1, 'lane': 'ls045', 'inFOV': False})]\n",
      "[(0, {'P_belief': 0.5, 'P_true': 0, 'lane': 'L137', 'inFOV': False})]\n",
      "[(0, {'P_belief': 0.5, 'P_true': 0, 'lane': 'L130', 'inFOV': False})]\n",
      "[(0, {'P_belief': 0.5, 'P_true': 1, 'lane': 'L126', 'inFOV': False})]\n",
      "[(0, {'P_belief': 0.5, 'P_true': 1, 'lane': 'ls124', 'inFOV': False})]\n",
      "[(0, {'P_belief': 0.5, 'P_true': 1, 'lane': 'ls233', 'inFOV': False})]\n",
      "[(0, {'P_belief': 0.5, 'P_true': 0, 'lane': 'ls033', 'inFOV': False})]\n",
      "[(0, {'P_belief': 0.5, 'P_true': 1, 'lane': 'ls131', 'inFOV': False})]\n",
      "[(0, {'P_belief': 0.5, 'P_true': 0, 'lane': 'L52', 'inFOV': False})]\n",
      "[(0, {'P_belief': 0.5, 'P_true': 1, 'lane': 'L129', 'inFOV': False})]\n",
      "[(0, {'P_belief': 0.5, 'P_true': 0, 'lane': 'ls165', 'inFOV': False})]\n",
      "[(0, {'P_belief': 0.5, 'P_true': 1, 'lane': 'ls210', 'inFOV': False})]\n",
      "[(0, {'P_belief': 0.5, 'P_true': 0, 'lane': 'L117', 'inFOV': False})]\n",
      "[(0, {'P_belief': 0.5, 'P_true': 1, 'lane': 'L35', 'inFOV': False})]\n",
      "[(0, {'P_belief': 0.5, 'P_true': 0, 'lane': 'L101', 'inFOV': False})]\n",
      "[(0, {'P_belief': 0.5, 'P_true': 0, 'lane': 'ls043', 'inFOV': False})]\n",
      "[(0, {'P_belief': 0.5, 'P_true': 1, 'lane': 'ls180', 'inFOV': False})]\n",
      "[(0, {'P_belief': 0.5, 'P_true': 1, 'lane': 'L97', 'inFOV': False})]\n",
      "[(0, {'P_belief': 0.5, 'P_true': 0, 'lane': 'L60', 'inFOV': False})]\n",
      "[(0, {'P_belief': 0.5, 'P_true': 0, 'lane': 'L99', 'inFOV': False})]\n",
      "[(0, {'P_belief': 0.5, 'P_true': 0, 'lane': 'ls170', 'inFOV': False})]\n",
      "[(0, {'P_belief': 0.5, 'P_true': 1, 'lane': 'ls269', 'inFOV': False})]\n",
      "[(0, {'P_belief': 0.5, 'P_true': 1, 'lane': 'ls141', 'inFOV': False})]\n",
      "[(0, {'P_belief': 0.5, 'P_true': 0, 'lane': 'ls085', 'inFOV': False})]\n",
      "[(0, {'P_belief': 0.5, 'P_true': 1, 'lane': 'ls024', 'inFOV': False})]\n",
      "[(0, {'P_belief': 0.5, 'P_true': 0, 'lane': 'L58', 'inFOV': False})]\n",
      "[(0, {'P_belief': 0.5, 'P_true': 1, 'lane': 'ls178', 'inFOV': False})]\n",
      "[(0, {'P_belief': 0.5, 'P_true': 1, 'lane': 'ls118', 'inFOV': False})]\n",
      "[(0, {'P_belief': 0.5, 'P_true': 1, 'lane': 'ls159', 'inFOV': False})]\n",
      "[(0, {'P_belief': 0.5, 'P_true': 1, 'lane': 'L135', 'inFOV': False})]\n",
      "[(0, {'P_belief': 0.5, 'P_true': 1, 'lane': 'ls110', 'inFOV': False})]\n",
      "[(0, {'P_belief': 0.5, 'P_true': 1, 'lane': 'ls240', 'inFOV': False})]\n",
      "[(0, {'P_belief': 0.5, 'P_true': 1, 'lane': 'ls061', 'inFOV': False})]\n",
      "[(0, {'P_belief': 1, 'P_true': 1, 'lane': 'L128', 'inFOV': True})]\n",
      "[(0, {'P_belief': 0.5, 'P_true': 1, 'lane': 'ls108', 'inFOV': False})]\n",
      "[(0, {'P_belief': 0.5, 'P_true': 0, 'lane': 'ls195', 'inFOV': False})]\n",
      "[(0, {'P_belief': 0.5, 'P_true': 0, 'lane': 'ls197', 'inFOV': False})]\n",
      "[(0, {'P_belief': 0.5, 'P_true': 0, 'lane': 'ls169', 'inFOV': False})]\n",
      "[(0, {'P_belief': 0.5, 'P_true': 1, 'lane': 'ls005', 'inFOV': False})]\n",
      "[(0, {'P_belief': 0.5, 'P_true': 0, 'lane': 'L134', 'inFOV': False})]\n",
      "[(0, {'P_belief': 0.5, 'P_true': 1, 'lane': 'L131', 'inFOV': False})]\n",
      "[(0, {'P_belief': 0.5, 'P_true': 0, 'lane': 'ls075', 'inFOV': False})]\n",
      "[(0, {'P_belief': 0.5, 'P_true': 1, 'lane': 'ls036', 'inFOV': False})]\n",
      "[(0, {'P_belief': 0.5, 'P_true': 1, 'lane': 'ls038', 'inFOV': False})]\n",
      "[(0, {'P_belief': 0.5, 'P_true': 0, 'lane': 'L123', 'inFOV': False})]\n",
      "[(0, {'P_belief': 0.5, 'P_true': 0, 'lane': 'L88', 'inFOV': False})]\n",
      "[(0, {'P_belief': 0, 'P_true': 0, 'lane': 'L113', 'inFOV': True})]\n",
      "[(0, {'P_belief': 0.5, 'P_true': 1, 'lane': 'L57', 'inFOV': False})]\n",
      "[(0, {'P_belief': 0.5, 'P_true': 0, 'lane': 'L82', 'inFOV': False})]\n",
      "[(0, {'P_belief': 0.5, 'P_true': 0, 'lane': 'L132', 'inFOV': False})]\n",
      "[(0, {'P_belief': 0.5, 'P_true': 1, 'lane': 'L37', 'inFOV': False})]\n",
      "[(0, {'P_belief': 0.5, 'P_true': 1, 'lane': 'L136', 'inFOV': False})]\n",
      "[(0, {'P_belief': 0.5, 'P_true': 0, 'lane': 'L91', 'inFOV': False})]\n",
      "[(0, {'P_belief': 0.5, 'P_true': 0, 'lane': 'L98', 'inFOV': False})]\n",
      "[(0, {'P_belief': 0.5, 'P_true': 1, 'lane': 'ls026', 'inFOV': False})]\n",
      "[(0, {'P_belief': 0.5, 'P_true': 0, 'lane': 'ls232', 'inFOV': False})]\n",
      "[(0, {'P_belief': 0.5, 'P_true': 0, 'lane': 'L133', 'inFOV': False})]\n"
     ]
    }
   ],
   "source": [
    "for node1, node2 in sk.G.edges():\n",
    "    edge_data = sk.G.get_edge_data(node1, node2).items()\n",
    "    print(edge_data)"
   ]
  },
  {
   "cell_type": "markdown",
   "metadata": {},
   "source": [
    "### 5"
   ]
  },
  {
   "cell_type": "markdown",
   "metadata": {},
   "source": [
    "Update for unobserved segments"
   ]
  },
  {
   "cell_type": "code",
   "execution_count": null,
   "metadata": {},
   "outputs": [],
   "source": []
  },
  {
   "cell_type": "markdown",
   "metadata": {},
   "source": [
    "### 6"
   ]
  },
  {
   "cell_type": "markdown",
   "metadata": {},
   "source": [
    "True belief based on imprint of obstacles(duckies/duckiebots...)"
   ]
  },
  {
   "cell_type": "code",
   "execution_count": null,
   "metadata": {},
   "outputs": [],
   "source": []
  }
 ],
 "metadata": {
  "kernelspec": {
   "display_name": "Python 2",
   "language": "python",
   "name": "python2"
  },
  "language_info": {
   "codemirror_mode": {
    "name": "ipython",
    "version": 2
   },
   "file_extension": ".py",
   "mimetype": "text/x-python",
   "name": "python",
   "nbconvert_exporter": "python",
   "pygments_lexer": "ipython2",
   "version": "2.7.15"
  }
 },
 "nbformat": 4,
 "nbformat_minor": 2
}
